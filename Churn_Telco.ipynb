{
  "cells": [
    {
      "cell_type": "markdown",
      "metadata": {},
      "source": [
        "# Projeto de Machine Learning I\n",
        "\n",
        "Projeto final do curso de Machine Learning I da Turma Santander Coders 2023 - Trilha de Data Science - Turma 1008.\n",
        "\n",
        "Integrantes:\n",
        "- [Anna Clara Amâncio](https://github.com/claraamancio)\n",
        "- [Karen Almeida](https://github.com/KarenAlmeida23)\n",
        "- [Manusa Leal](https://github.com/manusaleal)\n",
        "- [Rhayza Pinto](https://github.com/RhayzaPinto)\n",
        "- [Raphael](https://github.com/raphaelnfer)\n",
        "\n",
        "Este projeto tem como objetivo a realização do estudo de previsão de Churn em uma empresa de Telecomunicações, baseado no comportamento dos clientes contido no [dataset de churn](https://www.kaggle.com/datasets/blastchar/telco-customer-churn) disponibilizado no Kaggle. \n",
        "\n",
        "O Churn é um tema comumente tratado no mercado, pois é desejável reter estes possíveis clientes que estão passíveis de Churn, de modo que seja criado técnicas de retenção destes clientes e, desta forma, aumentar o faturamento da empresa.\n",
        "\n",
        "A empresa em questão comercializa os seguintes produtos:\n",
        "- Serviço de Telefone (incluindo multiplas linhas caso o cliente opte por este serviço adicional);\n",
        "- Serviço de Internet;\n",
        "- Segurança Online;\n",
        "- Backup Online;\n",
        "- Serviço de proteção de dispositivo;\n",
        "- Suporte Técnico;\n",
        "- Streaming de TV;\n",
        "- Streaming de Filmes.\n",
        "\n",
        "\n",
        "O dataset possui dados de clientes que realizaram ou não o churn no período de 1 mês e seus respectivos atributos, serviços nos quais cada cliente adquiriu, informações da conta do cliente (há quanto tempo ele é cliente, contrato, forma de pagamento, conta por e-mail, cobranças mensais e cobranças totais) e informações demográficas sobre os clientes (sexo, faixa etária e se possuem companheiros e dependentes)."
      ]
    },
    {
      "cell_type": "markdown",
      "metadata": {},
      "source": [
        "# 1. Preparação dos Dados e Verificação de Consistência \n",
        "\n",
        "` [ALTERAR] Neste tópico deve ser feita a verificação da consistência dos dados e caso necessário efetuar eventuais modificações na base de dados. Alguns dos procedimentos que podemos fazer aqui são: Remoção e/ou tratamento de valores faltantes, remoção de duplicatas, ajustes dos tipos de variáveis, análise de _outliers_ entre outras;`"
      ]
    },
    {
      "cell_type": "code",
      "execution_count": 67,
      "metadata": {
        "colab": {
          "base_uri": "https://localhost:8080/"
        },
        "id": "UqPsIFZpZLcr",
        "outputId": "4dd0e8d1-afa2-4062-d168-5e7943d48a26"
      },
      "outputs": [],
      "source": [
        "import pandas as pd\n",
        "import numpy as np\n",
        "import io\n",
        "from sklearn.model_selection import train_test_split\n",
        "import seaborn as sns\n",
        "import matplotlib.pyplot as plt\n",
        "from sklearn.preprocessing import StandardScaler\n",
        "from sklearn.linear_model import LogisticRegression\n",
        "from xgboost import XGBClassifier\n",
        "from sklearn.neighbors import KNeighborsClassifier\n",
        "from sklearn.metrics import accuracy_score\n",
        "from sklearn.metrics import classification_report\n",
        "from sklearn.metrics import roc_auc_score\n",
        "import scikitplot as skplt\n",
        "import matplotlib.pyplot as plt\n",
        "from sklearn.metrics import roc_curve, roc_auc_score\n",
        "from sklearn.model_selection import RandomizedSearchCV\n",
        "from sklearn.model_selection import StratifiedKFold\n",
        "\n",
        "# from google.colab import drive\n",
        "# drive.mount(\"/content/drive\")"
      ]
    },
    {
      "cell_type": "code",
      "execution_count": 2,
      "metadata": {
        "colab": {
          "base_uri": "https://localhost:8080/",
          "height": 617
        },
        "id": "LSdsA4lIZbkt",
        "outputId": "986659c6-bed2-4dbd-bf38-644cd7f162ad"
      },
      "outputs": [
        {
          "data": {
            "text/html": [
              "<div>\n",
              "<style scoped>\n",
              "    .dataframe tbody tr th:only-of-type {\n",
              "        vertical-align: middle;\n",
              "    }\n",
              "\n",
              "    .dataframe tbody tr th {\n",
              "        vertical-align: top;\n",
              "    }\n",
              "\n",
              "    .dataframe thead th {\n",
              "        text-align: right;\n",
              "    }\n",
              "</style>\n",
              "<table border=\"1\" class=\"dataframe\">\n",
              "  <thead>\n",
              "    <tr style=\"text-align: right;\">\n",
              "      <th></th>\n",
              "      <th>customerID</th>\n",
              "      <th>gender</th>\n",
              "      <th>SeniorCitizen</th>\n",
              "      <th>Partner</th>\n",
              "      <th>Dependents</th>\n",
              "      <th>tenure</th>\n",
              "      <th>PhoneService</th>\n",
              "      <th>MultipleLines</th>\n",
              "      <th>InternetService</th>\n",
              "      <th>OnlineSecurity</th>\n",
              "      <th>...</th>\n",
              "      <th>DeviceProtection</th>\n",
              "      <th>TechSupport</th>\n",
              "      <th>StreamingTV</th>\n",
              "      <th>StreamingMovies</th>\n",
              "      <th>Contract</th>\n",
              "      <th>PaperlessBilling</th>\n",
              "      <th>PaymentMethod</th>\n",
              "      <th>MonthlyCharges</th>\n",
              "      <th>TotalCharges</th>\n",
              "      <th>Churn</th>\n",
              "    </tr>\n",
              "  </thead>\n",
              "  <tbody>\n",
              "    <tr>\n",
              "      <th>0</th>\n",
              "      <td>7590-VHVEG</td>\n",
              "      <td>Female</td>\n",
              "      <td>0</td>\n",
              "      <td>Yes</td>\n",
              "      <td>No</td>\n",
              "      <td>1</td>\n",
              "      <td>No</td>\n",
              "      <td>No phone service</td>\n",
              "      <td>DSL</td>\n",
              "      <td>No</td>\n",
              "      <td>...</td>\n",
              "      <td>No</td>\n",
              "      <td>No</td>\n",
              "      <td>No</td>\n",
              "      <td>No</td>\n",
              "      <td>Month-to-month</td>\n",
              "      <td>Yes</td>\n",
              "      <td>Electronic check</td>\n",
              "      <td>29.85</td>\n",
              "      <td>29.85</td>\n",
              "      <td>No</td>\n",
              "    </tr>\n",
              "    <tr>\n",
              "      <th>1</th>\n",
              "      <td>5575-GNVDE</td>\n",
              "      <td>Male</td>\n",
              "      <td>0</td>\n",
              "      <td>No</td>\n",
              "      <td>No</td>\n",
              "      <td>34</td>\n",
              "      <td>Yes</td>\n",
              "      <td>No</td>\n",
              "      <td>DSL</td>\n",
              "      <td>Yes</td>\n",
              "      <td>...</td>\n",
              "      <td>Yes</td>\n",
              "      <td>No</td>\n",
              "      <td>No</td>\n",
              "      <td>No</td>\n",
              "      <td>One year</td>\n",
              "      <td>No</td>\n",
              "      <td>Mailed check</td>\n",
              "      <td>56.95</td>\n",
              "      <td>1889.5</td>\n",
              "      <td>No</td>\n",
              "    </tr>\n",
              "    <tr>\n",
              "      <th>2</th>\n",
              "      <td>3668-QPYBK</td>\n",
              "      <td>Male</td>\n",
              "      <td>0</td>\n",
              "      <td>No</td>\n",
              "      <td>No</td>\n",
              "      <td>2</td>\n",
              "      <td>Yes</td>\n",
              "      <td>No</td>\n",
              "      <td>DSL</td>\n",
              "      <td>Yes</td>\n",
              "      <td>...</td>\n",
              "      <td>No</td>\n",
              "      <td>No</td>\n",
              "      <td>No</td>\n",
              "      <td>No</td>\n",
              "      <td>Month-to-month</td>\n",
              "      <td>Yes</td>\n",
              "      <td>Mailed check</td>\n",
              "      <td>53.85</td>\n",
              "      <td>108.15</td>\n",
              "      <td>Yes</td>\n",
              "    </tr>\n",
              "    <tr>\n",
              "      <th>3</th>\n",
              "      <td>7795-CFOCW</td>\n",
              "      <td>Male</td>\n",
              "      <td>0</td>\n",
              "      <td>No</td>\n",
              "      <td>No</td>\n",
              "      <td>45</td>\n",
              "      <td>No</td>\n",
              "      <td>No phone service</td>\n",
              "      <td>DSL</td>\n",
              "      <td>Yes</td>\n",
              "      <td>...</td>\n",
              "      <td>Yes</td>\n",
              "      <td>Yes</td>\n",
              "      <td>No</td>\n",
              "      <td>No</td>\n",
              "      <td>One year</td>\n",
              "      <td>No</td>\n",
              "      <td>Bank transfer (automatic)</td>\n",
              "      <td>42.30</td>\n",
              "      <td>1840.75</td>\n",
              "      <td>No</td>\n",
              "    </tr>\n",
              "    <tr>\n",
              "      <th>4</th>\n",
              "      <td>9237-HQITU</td>\n",
              "      <td>Female</td>\n",
              "      <td>0</td>\n",
              "      <td>No</td>\n",
              "      <td>No</td>\n",
              "      <td>2</td>\n",
              "      <td>Yes</td>\n",
              "      <td>No</td>\n",
              "      <td>Fiber optic</td>\n",
              "      <td>No</td>\n",
              "      <td>...</td>\n",
              "      <td>No</td>\n",
              "      <td>No</td>\n",
              "      <td>No</td>\n",
              "      <td>No</td>\n",
              "      <td>Month-to-month</td>\n",
              "      <td>Yes</td>\n",
              "      <td>Electronic check</td>\n",
              "      <td>70.70</td>\n",
              "      <td>151.65</td>\n",
              "      <td>Yes</td>\n",
              "    </tr>\n",
              "    <tr>\n",
              "      <th>...</th>\n",
              "      <td>...</td>\n",
              "      <td>...</td>\n",
              "      <td>...</td>\n",
              "      <td>...</td>\n",
              "      <td>...</td>\n",
              "      <td>...</td>\n",
              "      <td>...</td>\n",
              "      <td>...</td>\n",
              "      <td>...</td>\n",
              "      <td>...</td>\n",
              "      <td>...</td>\n",
              "      <td>...</td>\n",
              "      <td>...</td>\n",
              "      <td>...</td>\n",
              "      <td>...</td>\n",
              "      <td>...</td>\n",
              "      <td>...</td>\n",
              "      <td>...</td>\n",
              "      <td>...</td>\n",
              "      <td>...</td>\n",
              "      <td>...</td>\n",
              "    </tr>\n",
              "    <tr>\n",
              "      <th>7038</th>\n",
              "      <td>6840-RESVB</td>\n",
              "      <td>Male</td>\n",
              "      <td>0</td>\n",
              "      <td>Yes</td>\n",
              "      <td>Yes</td>\n",
              "      <td>24</td>\n",
              "      <td>Yes</td>\n",
              "      <td>Yes</td>\n",
              "      <td>DSL</td>\n",
              "      <td>Yes</td>\n",
              "      <td>...</td>\n",
              "      <td>Yes</td>\n",
              "      <td>Yes</td>\n",
              "      <td>Yes</td>\n",
              "      <td>Yes</td>\n",
              "      <td>One year</td>\n",
              "      <td>Yes</td>\n",
              "      <td>Mailed check</td>\n",
              "      <td>84.80</td>\n",
              "      <td>1990.5</td>\n",
              "      <td>No</td>\n",
              "    </tr>\n",
              "    <tr>\n",
              "      <th>7039</th>\n",
              "      <td>2234-XADUH</td>\n",
              "      <td>Female</td>\n",
              "      <td>0</td>\n",
              "      <td>Yes</td>\n",
              "      <td>Yes</td>\n",
              "      <td>72</td>\n",
              "      <td>Yes</td>\n",
              "      <td>Yes</td>\n",
              "      <td>Fiber optic</td>\n",
              "      <td>No</td>\n",
              "      <td>...</td>\n",
              "      <td>Yes</td>\n",
              "      <td>No</td>\n",
              "      <td>Yes</td>\n",
              "      <td>Yes</td>\n",
              "      <td>One year</td>\n",
              "      <td>Yes</td>\n",
              "      <td>Credit card (automatic)</td>\n",
              "      <td>103.20</td>\n",
              "      <td>7362.9</td>\n",
              "      <td>No</td>\n",
              "    </tr>\n",
              "    <tr>\n",
              "      <th>7040</th>\n",
              "      <td>4801-JZAZL</td>\n",
              "      <td>Female</td>\n",
              "      <td>0</td>\n",
              "      <td>Yes</td>\n",
              "      <td>Yes</td>\n",
              "      <td>11</td>\n",
              "      <td>No</td>\n",
              "      <td>No phone service</td>\n",
              "      <td>DSL</td>\n",
              "      <td>Yes</td>\n",
              "      <td>...</td>\n",
              "      <td>No</td>\n",
              "      <td>No</td>\n",
              "      <td>No</td>\n",
              "      <td>No</td>\n",
              "      <td>Month-to-month</td>\n",
              "      <td>Yes</td>\n",
              "      <td>Electronic check</td>\n",
              "      <td>29.60</td>\n",
              "      <td>346.45</td>\n",
              "      <td>No</td>\n",
              "    </tr>\n",
              "    <tr>\n",
              "      <th>7041</th>\n",
              "      <td>8361-LTMKD</td>\n",
              "      <td>Male</td>\n",
              "      <td>1</td>\n",
              "      <td>Yes</td>\n",
              "      <td>No</td>\n",
              "      <td>4</td>\n",
              "      <td>Yes</td>\n",
              "      <td>Yes</td>\n",
              "      <td>Fiber optic</td>\n",
              "      <td>No</td>\n",
              "      <td>...</td>\n",
              "      <td>No</td>\n",
              "      <td>No</td>\n",
              "      <td>No</td>\n",
              "      <td>No</td>\n",
              "      <td>Month-to-month</td>\n",
              "      <td>Yes</td>\n",
              "      <td>Mailed check</td>\n",
              "      <td>74.40</td>\n",
              "      <td>306.6</td>\n",
              "      <td>Yes</td>\n",
              "    </tr>\n",
              "    <tr>\n",
              "      <th>7042</th>\n",
              "      <td>3186-AJIEK</td>\n",
              "      <td>Male</td>\n",
              "      <td>0</td>\n",
              "      <td>No</td>\n",
              "      <td>No</td>\n",
              "      <td>66</td>\n",
              "      <td>Yes</td>\n",
              "      <td>No</td>\n",
              "      <td>Fiber optic</td>\n",
              "      <td>Yes</td>\n",
              "      <td>...</td>\n",
              "      <td>Yes</td>\n",
              "      <td>Yes</td>\n",
              "      <td>Yes</td>\n",
              "      <td>Yes</td>\n",
              "      <td>Two year</td>\n",
              "      <td>Yes</td>\n",
              "      <td>Bank transfer (automatic)</td>\n",
              "      <td>105.65</td>\n",
              "      <td>6844.5</td>\n",
              "      <td>No</td>\n",
              "    </tr>\n",
              "  </tbody>\n",
              "</table>\n",
              "<p>7043 rows × 21 columns</p>\n",
              "</div>"
            ],
            "text/plain": [
              "      customerID  gender  SeniorCitizen Partner Dependents  tenure  \\\n",
              "0     7590-VHVEG  Female              0     Yes         No       1   \n",
              "1     5575-GNVDE    Male              0      No         No      34   \n",
              "2     3668-QPYBK    Male              0      No         No       2   \n",
              "3     7795-CFOCW    Male              0      No         No      45   \n",
              "4     9237-HQITU  Female              0      No         No       2   \n",
              "...          ...     ...            ...     ...        ...     ...   \n",
              "7038  6840-RESVB    Male              0     Yes        Yes      24   \n",
              "7039  2234-XADUH  Female              0     Yes        Yes      72   \n",
              "7040  4801-JZAZL  Female              0     Yes        Yes      11   \n",
              "7041  8361-LTMKD    Male              1     Yes         No       4   \n",
              "7042  3186-AJIEK    Male              0      No         No      66   \n",
              "\n",
              "     PhoneService     MultipleLines InternetService OnlineSecurity  ...  \\\n",
              "0              No  No phone service             DSL             No  ...   \n",
              "1             Yes                No             DSL            Yes  ...   \n",
              "2             Yes                No             DSL            Yes  ...   \n",
              "3              No  No phone service             DSL            Yes  ...   \n",
              "4             Yes                No     Fiber optic             No  ...   \n",
              "...           ...               ...             ...            ...  ...   \n",
              "7038          Yes               Yes             DSL            Yes  ...   \n",
              "7039          Yes               Yes     Fiber optic             No  ...   \n",
              "7040           No  No phone service             DSL            Yes  ...   \n",
              "7041          Yes               Yes     Fiber optic             No  ...   \n",
              "7042          Yes                No     Fiber optic            Yes  ...   \n",
              "\n",
              "     DeviceProtection TechSupport StreamingTV StreamingMovies        Contract  \\\n",
              "0                  No          No          No              No  Month-to-month   \n",
              "1                 Yes          No          No              No        One year   \n",
              "2                  No          No          No              No  Month-to-month   \n",
              "3                 Yes         Yes          No              No        One year   \n",
              "4                  No          No          No              No  Month-to-month   \n",
              "...               ...         ...         ...             ...             ...   \n",
              "7038              Yes         Yes         Yes             Yes        One year   \n",
              "7039              Yes          No         Yes             Yes        One year   \n",
              "7040               No          No          No              No  Month-to-month   \n",
              "7041               No          No          No              No  Month-to-month   \n",
              "7042              Yes         Yes         Yes             Yes        Two year   \n",
              "\n",
              "     PaperlessBilling              PaymentMethod MonthlyCharges  TotalCharges  \\\n",
              "0                 Yes           Electronic check          29.85         29.85   \n",
              "1                  No               Mailed check          56.95        1889.5   \n",
              "2                 Yes               Mailed check          53.85        108.15   \n",
              "3                  No  Bank transfer (automatic)          42.30       1840.75   \n",
              "4                 Yes           Electronic check          70.70        151.65   \n",
              "...               ...                        ...            ...           ...   \n",
              "7038              Yes               Mailed check          84.80        1990.5   \n",
              "7039              Yes    Credit card (automatic)         103.20        7362.9   \n",
              "7040              Yes           Electronic check          29.60        346.45   \n",
              "7041              Yes               Mailed check          74.40         306.6   \n",
              "7042              Yes  Bank transfer (automatic)         105.65        6844.5   \n",
              "\n",
              "     Churn  \n",
              "0       No  \n",
              "1       No  \n",
              "2      Yes  \n",
              "3       No  \n",
              "4      Yes  \n",
              "...    ...  \n",
              "7038    No  \n",
              "7039    No  \n",
              "7040    No  \n",
              "7041   Yes  \n",
              "7042    No  \n",
              "\n",
              "[7043 rows x 21 columns]"
            ]
          },
          "execution_count": 2,
          "metadata": {},
          "output_type": "execute_result"
        }
      ],
      "source": [
        "data = pd.read_csv('Telco-Customer-Churn.csv')\n",
        "df = pd.DataFrame(data)\n",
        "df"
      ]
    },
    {
      "cell_type": "code",
      "execution_count": 3,
      "metadata": {
        "colab": {
          "base_uri": "https://localhost:8080/"
        },
        "id": "dH7r4IDdaMDm",
        "outputId": "02d92078-31c6-4586-c1f0-ac592c4206e0"
      },
      "outputs": [
        {
          "data": {
            "text/plain": [
              "(7043, 21)"
            ]
          },
          "execution_count": 3,
          "metadata": {},
          "output_type": "execute_result"
        }
      ],
      "source": [
        "df.shape"
      ]
    },
    {
      "cell_type": "code",
      "execution_count": 4,
      "metadata": {
        "colab": {
          "base_uri": "https://localhost:8080/"
        },
        "id": "slzIR6frZ3MP",
        "outputId": "80b8974c-1d19-4013-ac8f-2f557d252ac1"
      },
      "outputs": [
        {
          "data": {
            "text/plain": [
              "Index(['customerID', 'gender', 'SeniorCitizen', 'Partner', 'Dependents',\n",
              "       'tenure', 'PhoneService', 'MultipleLines', 'InternetService',\n",
              "       'OnlineSecurity', 'OnlineBackup', 'DeviceProtection', 'TechSupport',\n",
              "       'StreamingTV', 'StreamingMovies', 'Contract', 'PaperlessBilling',\n",
              "       'PaymentMethod', 'MonthlyCharges', 'TotalCharges', 'Churn'],\n",
              "      dtype='object')"
            ]
          },
          "execution_count": 4,
          "metadata": {},
          "output_type": "execute_result"
        }
      ],
      "source": [
        "df.columns"
      ]
    },
    {
      "cell_type": "code",
      "execution_count": 5,
      "metadata": {
        "colab": {
          "base_uri": "https://localhost:8080/",
          "height": 399
        },
        "id": "D0689XQrZ-nn",
        "outputId": "50be4437-7ba1-4692-a987-1db35faca387"
      },
      "outputs": [
        {
          "name": "stdout",
          "output_type": "stream",
          "text": [
            "<class 'pandas.core.frame.DataFrame'>\n",
            "RangeIndex: 7043 entries, 0 to 7042\n",
            "Data columns (total 21 columns):\n",
            " #   Column            Non-Null Count  Dtype  \n",
            "---  ------            --------------  -----  \n",
            " 0   customerID        7043 non-null   object \n",
            " 1   gender            7043 non-null   object \n",
            " 2   SeniorCitizen     7043 non-null   int64  \n",
            " 3   Partner           7043 non-null   object \n",
            " 4   Dependents        7043 non-null   object \n",
            " 5   tenure            7043 non-null   int64  \n",
            " 6   PhoneService      7043 non-null   object \n",
            " 7   MultipleLines     7043 non-null   object \n",
            " 8   InternetService   7043 non-null   object \n",
            " 9   OnlineSecurity    7043 non-null   object \n",
            " 10  OnlineBackup      7043 non-null   object \n",
            " 11  DeviceProtection  7043 non-null   object \n",
            " 12  TechSupport       7043 non-null   object \n",
            " 13  StreamingTV       7043 non-null   object \n",
            " 14  StreamingMovies   7043 non-null   object \n",
            " 15  Contract          7043 non-null   object \n",
            " 16  PaperlessBilling  7043 non-null   object \n",
            " 17  PaymentMethod     7043 non-null   object \n",
            " 18  MonthlyCharges    7043 non-null   float64\n",
            " 19  TotalCharges      7043 non-null   object \n",
            " 20  Churn             7043 non-null   object \n",
            "dtypes: float64(1), int64(2), object(18)\n",
            "memory usage: 1.1+ MB\n"
          ]
        }
      ],
      "source": [
        "df.info()"
      ]
    },
    {
      "cell_type": "code",
      "execution_count": 6,
      "metadata": {
        "id": "-AHFHpE6h8zB"
      },
      "outputs": [],
      "source": [
        "df['TotalCharges'] = df['TotalCharges'].replace(' ',np.nan).fillna(0)"
      ]
    },
    {
      "cell_type": "code",
      "execution_count": 7,
      "metadata": {
        "id": "7LqCLHNFcVs0"
      },
      "outputs": [],
      "source": [
        "df['TotalCharges'] = df['TotalCharges'].astype(float)"
      ]
    },
    {
      "cell_type": "code",
      "execution_count": 8,
      "metadata": {
        "id": "cLAL6YBmpT9Q"
      },
      "outputs": [],
      "source": [
        "df['Churn'] = pd.Series(np.where(df.Churn.values == 'Yes', 1, 0), df.index)"
      ]
    },
    {
      "cell_type": "code",
      "execution_count": 9,
      "metadata": {
        "colab": {
          "base_uri": "https://localhost:8080/"
        },
        "id": "zcCZawu2aRpk",
        "outputId": "2a354916-91a3-4995-a4a1-6427a1004955"
      },
      "outputs": [
        {
          "name": "stdout",
          "output_type": "stream",
          "text": [
            "<class 'pandas.core.frame.DataFrame'>\n",
            "RangeIndex: 7043 entries, 0 to 7042\n",
            "Data columns (total 21 columns):\n",
            " #   Column            Non-Null Count  Dtype  \n",
            "---  ------            --------------  -----  \n",
            " 0   customerID        7043 non-null   object \n",
            " 1   gender            7043 non-null   object \n",
            " 2   SeniorCitizen     7043 non-null   int64  \n",
            " 3   Partner           7043 non-null   object \n",
            " 4   Dependents        7043 non-null   object \n",
            " 5   tenure            7043 non-null   int64  \n",
            " 6   PhoneService      7043 non-null   object \n",
            " 7   MultipleLines     7043 non-null   object \n",
            " 8   InternetService   7043 non-null   object \n",
            " 9   OnlineSecurity    7043 non-null   object \n",
            " 10  OnlineBackup      7043 non-null   object \n",
            " 11  DeviceProtection  7043 non-null   object \n",
            " 12  TechSupport       7043 non-null   object \n",
            " 13  StreamingTV       7043 non-null   object \n",
            " 14  StreamingMovies   7043 non-null   object \n",
            " 15  Contract          7043 non-null   object \n",
            " 16  PaperlessBilling  7043 non-null   object \n",
            " 17  PaymentMethod     7043 non-null   object \n",
            " 18  MonthlyCharges    7043 non-null   float64\n",
            " 19  TotalCharges      7043 non-null   float64\n",
            " 20  Churn             7043 non-null   int32  \n",
            "dtypes: float64(2), int32(1), int64(2), object(16)\n",
            "memory usage: 1.1+ MB\n"
          ]
        }
      ],
      "source": [
        "df.info()"
      ]
    },
    {
      "cell_type": "code",
      "execution_count": 10,
      "metadata": {
        "colab": {
          "base_uri": "https://localhost:8080/",
          "height": 300
        },
        "id": "2UunhSdxaEZD",
        "outputId": "66288cae-c3e1-4163-a479-e45adab3e062"
      },
      "outputs": [
        {
          "data": {
            "text/html": [
              "<div>\n",
              "<style scoped>\n",
              "    .dataframe tbody tr th:only-of-type {\n",
              "        vertical-align: middle;\n",
              "    }\n",
              "\n",
              "    .dataframe tbody tr th {\n",
              "        vertical-align: top;\n",
              "    }\n",
              "\n",
              "    .dataframe thead th {\n",
              "        text-align: right;\n",
              "    }\n",
              "</style>\n",
              "<table border=\"1\" class=\"dataframe\">\n",
              "  <thead>\n",
              "    <tr style=\"text-align: right;\">\n",
              "      <th></th>\n",
              "      <th>SeniorCitizen</th>\n",
              "      <th>tenure</th>\n",
              "      <th>MonthlyCharges</th>\n",
              "      <th>TotalCharges</th>\n",
              "      <th>Churn</th>\n",
              "    </tr>\n",
              "  </thead>\n",
              "  <tbody>\n",
              "    <tr>\n",
              "      <th>count</th>\n",
              "      <td>7043.000000</td>\n",
              "      <td>7043.000000</td>\n",
              "      <td>7043.000000</td>\n",
              "      <td>7043.000000</td>\n",
              "      <td>7043.000000</td>\n",
              "    </tr>\n",
              "    <tr>\n",
              "      <th>mean</th>\n",
              "      <td>0.162147</td>\n",
              "      <td>32.371149</td>\n",
              "      <td>64.761692</td>\n",
              "      <td>2279.734304</td>\n",
              "      <td>0.265370</td>\n",
              "    </tr>\n",
              "    <tr>\n",
              "      <th>std</th>\n",
              "      <td>0.368612</td>\n",
              "      <td>24.559481</td>\n",
              "      <td>30.090047</td>\n",
              "      <td>2266.794470</td>\n",
              "      <td>0.441561</td>\n",
              "    </tr>\n",
              "    <tr>\n",
              "      <th>min</th>\n",
              "      <td>0.000000</td>\n",
              "      <td>0.000000</td>\n",
              "      <td>18.250000</td>\n",
              "      <td>0.000000</td>\n",
              "      <td>0.000000</td>\n",
              "    </tr>\n",
              "    <tr>\n",
              "      <th>25%</th>\n",
              "      <td>0.000000</td>\n",
              "      <td>9.000000</td>\n",
              "      <td>35.500000</td>\n",
              "      <td>398.550000</td>\n",
              "      <td>0.000000</td>\n",
              "    </tr>\n",
              "    <tr>\n",
              "      <th>50%</th>\n",
              "      <td>0.000000</td>\n",
              "      <td>29.000000</td>\n",
              "      <td>70.350000</td>\n",
              "      <td>1394.550000</td>\n",
              "      <td>0.000000</td>\n",
              "    </tr>\n",
              "    <tr>\n",
              "      <th>75%</th>\n",
              "      <td>0.000000</td>\n",
              "      <td>55.000000</td>\n",
              "      <td>89.850000</td>\n",
              "      <td>3786.600000</td>\n",
              "      <td>1.000000</td>\n",
              "    </tr>\n",
              "    <tr>\n",
              "      <th>max</th>\n",
              "      <td>1.000000</td>\n",
              "      <td>72.000000</td>\n",
              "      <td>118.750000</td>\n",
              "      <td>8684.800000</td>\n",
              "      <td>1.000000</td>\n",
              "    </tr>\n",
              "  </tbody>\n",
              "</table>\n",
              "</div>"
            ],
            "text/plain": [
              "       SeniorCitizen       tenure  MonthlyCharges  TotalCharges        Churn\n",
              "count    7043.000000  7043.000000     7043.000000   7043.000000  7043.000000\n",
              "mean        0.162147    32.371149       64.761692   2279.734304     0.265370\n",
              "std         0.368612    24.559481       30.090047   2266.794470     0.441561\n",
              "min         0.000000     0.000000       18.250000      0.000000     0.000000\n",
              "25%         0.000000     9.000000       35.500000    398.550000     0.000000\n",
              "50%         0.000000    29.000000       70.350000   1394.550000     0.000000\n",
              "75%         0.000000    55.000000       89.850000   3786.600000     1.000000\n",
              "max         1.000000    72.000000      118.750000   8684.800000     1.000000"
            ]
          },
          "execution_count": 10,
          "metadata": {},
          "output_type": "execute_result"
        }
      ],
      "source": [
        "df.describe()"
      ]
    },
    {
      "cell_type": "code",
      "execution_count": 11,
      "metadata": {
        "colab": {
          "base_uri": "https://localhost:8080/"
        },
        "id": "Zfnw-y7baWYn",
        "outputId": "d3dcf618-896c-4b66-d3e3-a44677b70d22"
      },
      "outputs": [
        {
          "name": "stdout",
          "output_type": "stream",
          "text": [
            "customerID\n",
            "(array(['0002-ORFBO', '0003-MKNFE', '0004-TLHLJ', ..., '9992-UJOEL',\n",
            "       '9993-LHIEB', '9995-HOTOH'], dtype=object), array([1, 1, 1, ..., 1, 1, 1], dtype=int64))\n",
            "gender\n",
            "(array(['Female', 'Male'], dtype=object), array([3488, 3555], dtype=int64))\n",
            "Partner\n",
            "(array(['No', 'Yes'], dtype=object), array([3641, 3402], dtype=int64))\n",
            "Dependents\n",
            "(array(['No', 'Yes'], dtype=object), array([4933, 2110], dtype=int64))\n",
            "PhoneService\n",
            "(array(['No', 'Yes'], dtype=object), array([ 682, 6361], dtype=int64))\n",
            "MultipleLines\n",
            "(array(['No', 'No phone service', 'Yes'], dtype=object), array([3390,  682, 2971], dtype=int64))\n",
            "InternetService\n",
            "(array(['DSL', 'Fiber optic', 'No'], dtype=object), array([2421, 3096, 1526], dtype=int64))\n",
            "OnlineSecurity\n",
            "(array(['No', 'No internet service', 'Yes'], dtype=object), array([3498, 1526, 2019], dtype=int64))\n",
            "OnlineBackup\n",
            "(array(['No', 'No internet service', 'Yes'], dtype=object), array([3088, 1526, 2429], dtype=int64))\n",
            "DeviceProtection\n",
            "(array(['No', 'No internet service', 'Yes'], dtype=object), array([3095, 1526, 2422], dtype=int64))\n",
            "TechSupport\n",
            "(array(['No', 'No internet service', 'Yes'], dtype=object), array([3473, 1526, 2044], dtype=int64))\n",
            "StreamingTV\n",
            "(array(['No', 'No internet service', 'Yes'], dtype=object), array([2810, 1526, 2707], dtype=int64))\n",
            "StreamingMovies\n",
            "(array(['No', 'No internet service', 'Yes'], dtype=object), array([2785, 1526, 2732], dtype=int64))\n",
            "Contract\n",
            "(array(['Month-to-month', 'One year', 'Two year'], dtype=object), array([3875, 1473, 1695], dtype=int64))\n",
            "PaperlessBilling\n",
            "(array(['No', 'Yes'], dtype=object), array([2872, 4171], dtype=int64))\n",
            "PaymentMethod\n",
            "(array(['Bank transfer (automatic)', 'Credit card (automatic)',\n",
            "       'Electronic check', 'Mailed check'], dtype=object), array([1544, 1522, 2365, 1612], dtype=int64))\n"
          ]
        }
      ],
      "source": [
        "for cols in df.select_dtypes(include=['object']).columns:\n",
        "    print(cols)\n",
        "    print(\n",
        "        np.unique(df[cols],\n",
        "                  return_counts=True)\n",
        "    )"
      ]
    },
    {
      "cell_type": "code",
      "execution_count": 12,
      "metadata": {
        "id": "Z6KAHAOvkC0W"
      },
      "outputs": [],
      "source": [
        "# Dropando o customer ID, pois não é utilizado nos modelos\n",
        "\n",
        "df_dropped = (\n",
        "    df.drop(columns=['customerID'])\n",
        ")"
      ]
    },
    {
      "cell_type": "code",
      "execution_count": 13,
      "metadata": {},
      "outputs": [
        {
          "name": "stdout",
          "output_type": "stream",
          "text": [
            "<class 'pandas.core.frame.DataFrame'>\n",
            "RangeIndex: 7043 entries, 0 to 7042\n",
            "Data columns (total 20 columns):\n",
            " #   Column            Non-Null Count  Dtype  \n",
            "---  ------            --------------  -----  \n",
            " 0   gender            7043 non-null   object \n",
            " 1   SeniorCitizen     7043 non-null   int64  \n",
            " 2   Partner           7043 non-null   object \n",
            " 3   Dependents        7043 non-null   object \n",
            " 4   tenure            7043 non-null   int64  \n",
            " 5   PhoneService      7043 non-null   object \n",
            " 6   MultipleLines     7043 non-null   object \n",
            " 7   InternetService   7043 non-null   object \n",
            " 8   OnlineSecurity    7043 non-null   object \n",
            " 9   OnlineBackup      7043 non-null   object \n",
            " 10  DeviceProtection  7043 non-null   object \n",
            " 11  TechSupport       7043 non-null   object \n",
            " 12  StreamingTV       7043 non-null   object \n",
            " 13  StreamingMovies   7043 non-null   object \n",
            " 14  Contract          7043 non-null   object \n",
            " 15  PaperlessBilling  7043 non-null   object \n",
            " 16  PaymentMethod     7043 non-null   object \n",
            " 17  MonthlyCharges    7043 non-null   float64\n",
            " 18  TotalCharges      7043 non-null   float64\n",
            " 19  Churn             7043 non-null   int32  \n",
            "dtypes: float64(2), int32(1), int64(2), object(15)\n",
            "memory usage: 1.0+ MB\n"
          ]
        }
      ],
      "source": [
        "df_dropped.info()"
      ]
    },
    {
      "cell_type": "code",
      "execution_count": 14,
      "metadata": {
        "colab": {
          "base_uri": "https://localhost:8080/",
          "height": 478
        },
        "id": "-7yE4k5_jtt1",
        "outputId": "ac5acc20-5c0c-4ccf-c6b3-f94c17b273c9"
      },
      "outputs": [
        {
          "data": {
            "text/html": [
              "<div>\n",
              "<style scoped>\n",
              "    .dataframe tbody tr th:only-of-type {\n",
              "        vertical-align: middle;\n",
              "    }\n",
              "\n",
              "    .dataframe tbody tr th {\n",
              "        vertical-align: top;\n",
              "    }\n",
              "\n",
              "    .dataframe thead th {\n",
              "        text-align: right;\n",
              "    }\n",
              "</style>\n",
              "<table border=\"1\" class=\"dataframe\">\n",
              "  <thead>\n",
              "    <tr style=\"text-align: right;\">\n",
              "      <th></th>\n",
              "      <th>SeniorCitizen</th>\n",
              "      <th>tenure</th>\n",
              "      <th>MonthlyCharges</th>\n",
              "      <th>TotalCharges</th>\n",
              "      <th>Churn</th>\n",
              "      <th>gender_Female</th>\n",
              "      <th>gender_Male</th>\n",
              "      <th>Partner_No</th>\n",
              "      <th>Partner_Yes</th>\n",
              "      <th>Dependents_No</th>\n",
              "      <th>...</th>\n",
              "      <th>StreamingMovies_Yes</th>\n",
              "      <th>Contract_Month-to-month</th>\n",
              "      <th>Contract_One year</th>\n",
              "      <th>Contract_Two year</th>\n",
              "      <th>PaperlessBilling_No</th>\n",
              "      <th>PaperlessBilling_Yes</th>\n",
              "      <th>PaymentMethod_Bank transfer (automatic)</th>\n",
              "      <th>PaymentMethod_Credit card (automatic)</th>\n",
              "      <th>PaymentMethod_Electronic check</th>\n",
              "      <th>PaymentMethod_Mailed check</th>\n",
              "    </tr>\n",
              "  </thead>\n",
              "  <tbody>\n",
              "    <tr>\n",
              "      <th>0</th>\n",
              "      <td>0</td>\n",
              "      <td>1</td>\n",
              "      <td>29.85</td>\n",
              "      <td>29.85</td>\n",
              "      <td>0</td>\n",
              "      <td>True</td>\n",
              "      <td>False</td>\n",
              "      <td>False</td>\n",
              "      <td>True</td>\n",
              "      <td>True</td>\n",
              "      <td>...</td>\n",
              "      <td>False</td>\n",
              "      <td>True</td>\n",
              "      <td>False</td>\n",
              "      <td>False</td>\n",
              "      <td>False</td>\n",
              "      <td>True</td>\n",
              "      <td>False</td>\n",
              "      <td>False</td>\n",
              "      <td>True</td>\n",
              "      <td>False</td>\n",
              "    </tr>\n",
              "    <tr>\n",
              "      <th>1</th>\n",
              "      <td>0</td>\n",
              "      <td>34</td>\n",
              "      <td>56.95</td>\n",
              "      <td>1889.50</td>\n",
              "      <td>0</td>\n",
              "      <td>False</td>\n",
              "      <td>True</td>\n",
              "      <td>True</td>\n",
              "      <td>False</td>\n",
              "      <td>True</td>\n",
              "      <td>...</td>\n",
              "      <td>False</td>\n",
              "      <td>False</td>\n",
              "      <td>True</td>\n",
              "      <td>False</td>\n",
              "      <td>True</td>\n",
              "      <td>False</td>\n",
              "      <td>False</td>\n",
              "      <td>False</td>\n",
              "      <td>False</td>\n",
              "      <td>True</td>\n",
              "    </tr>\n",
              "    <tr>\n",
              "      <th>2</th>\n",
              "      <td>0</td>\n",
              "      <td>2</td>\n",
              "      <td>53.85</td>\n",
              "      <td>108.15</td>\n",
              "      <td>1</td>\n",
              "      <td>False</td>\n",
              "      <td>True</td>\n",
              "      <td>True</td>\n",
              "      <td>False</td>\n",
              "      <td>True</td>\n",
              "      <td>...</td>\n",
              "      <td>False</td>\n",
              "      <td>True</td>\n",
              "      <td>False</td>\n",
              "      <td>False</td>\n",
              "      <td>False</td>\n",
              "      <td>True</td>\n",
              "      <td>False</td>\n",
              "      <td>False</td>\n",
              "      <td>False</td>\n",
              "      <td>True</td>\n",
              "    </tr>\n",
              "    <tr>\n",
              "      <th>3</th>\n",
              "      <td>0</td>\n",
              "      <td>45</td>\n",
              "      <td>42.30</td>\n",
              "      <td>1840.75</td>\n",
              "      <td>0</td>\n",
              "      <td>False</td>\n",
              "      <td>True</td>\n",
              "      <td>True</td>\n",
              "      <td>False</td>\n",
              "      <td>True</td>\n",
              "      <td>...</td>\n",
              "      <td>False</td>\n",
              "      <td>False</td>\n",
              "      <td>True</td>\n",
              "      <td>False</td>\n",
              "      <td>True</td>\n",
              "      <td>False</td>\n",
              "      <td>True</td>\n",
              "      <td>False</td>\n",
              "      <td>False</td>\n",
              "      <td>False</td>\n",
              "    </tr>\n",
              "    <tr>\n",
              "      <th>4</th>\n",
              "      <td>0</td>\n",
              "      <td>2</td>\n",
              "      <td>70.70</td>\n",
              "      <td>151.65</td>\n",
              "      <td>1</td>\n",
              "      <td>True</td>\n",
              "      <td>False</td>\n",
              "      <td>True</td>\n",
              "      <td>False</td>\n",
              "      <td>True</td>\n",
              "      <td>...</td>\n",
              "      <td>False</td>\n",
              "      <td>True</td>\n",
              "      <td>False</td>\n",
              "      <td>False</td>\n",
              "      <td>False</td>\n",
              "      <td>True</td>\n",
              "      <td>False</td>\n",
              "      <td>False</td>\n",
              "      <td>True</td>\n",
              "      <td>False</td>\n",
              "    </tr>\n",
              "    <tr>\n",
              "      <th>...</th>\n",
              "      <td>...</td>\n",
              "      <td>...</td>\n",
              "      <td>...</td>\n",
              "      <td>...</td>\n",
              "      <td>...</td>\n",
              "      <td>...</td>\n",
              "      <td>...</td>\n",
              "      <td>...</td>\n",
              "      <td>...</td>\n",
              "      <td>...</td>\n",
              "      <td>...</td>\n",
              "      <td>...</td>\n",
              "      <td>...</td>\n",
              "      <td>...</td>\n",
              "      <td>...</td>\n",
              "      <td>...</td>\n",
              "      <td>...</td>\n",
              "      <td>...</td>\n",
              "      <td>...</td>\n",
              "      <td>...</td>\n",
              "      <td>...</td>\n",
              "    </tr>\n",
              "    <tr>\n",
              "      <th>7038</th>\n",
              "      <td>0</td>\n",
              "      <td>24</td>\n",
              "      <td>84.80</td>\n",
              "      <td>1990.50</td>\n",
              "      <td>0</td>\n",
              "      <td>False</td>\n",
              "      <td>True</td>\n",
              "      <td>False</td>\n",
              "      <td>True</td>\n",
              "      <td>False</td>\n",
              "      <td>...</td>\n",
              "      <td>True</td>\n",
              "      <td>False</td>\n",
              "      <td>True</td>\n",
              "      <td>False</td>\n",
              "      <td>False</td>\n",
              "      <td>True</td>\n",
              "      <td>False</td>\n",
              "      <td>False</td>\n",
              "      <td>False</td>\n",
              "      <td>True</td>\n",
              "    </tr>\n",
              "    <tr>\n",
              "      <th>7039</th>\n",
              "      <td>0</td>\n",
              "      <td>72</td>\n",
              "      <td>103.20</td>\n",
              "      <td>7362.90</td>\n",
              "      <td>0</td>\n",
              "      <td>True</td>\n",
              "      <td>False</td>\n",
              "      <td>False</td>\n",
              "      <td>True</td>\n",
              "      <td>False</td>\n",
              "      <td>...</td>\n",
              "      <td>True</td>\n",
              "      <td>False</td>\n",
              "      <td>True</td>\n",
              "      <td>False</td>\n",
              "      <td>False</td>\n",
              "      <td>True</td>\n",
              "      <td>False</td>\n",
              "      <td>True</td>\n",
              "      <td>False</td>\n",
              "      <td>False</td>\n",
              "    </tr>\n",
              "    <tr>\n",
              "      <th>7040</th>\n",
              "      <td>0</td>\n",
              "      <td>11</td>\n",
              "      <td>29.60</td>\n",
              "      <td>346.45</td>\n",
              "      <td>0</td>\n",
              "      <td>True</td>\n",
              "      <td>False</td>\n",
              "      <td>False</td>\n",
              "      <td>True</td>\n",
              "      <td>False</td>\n",
              "      <td>...</td>\n",
              "      <td>False</td>\n",
              "      <td>True</td>\n",
              "      <td>False</td>\n",
              "      <td>False</td>\n",
              "      <td>False</td>\n",
              "      <td>True</td>\n",
              "      <td>False</td>\n",
              "      <td>False</td>\n",
              "      <td>True</td>\n",
              "      <td>False</td>\n",
              "    </tr>\n",
              "    <tr>\n",
              "      <th>7041</th>\n",
              "      <td>1</td>\n",
              "      <td>4</td>\n",
              "      <td>74.40</td>\n",
              "      <td>306.60</td>\n",
              "      <td>1</td>\n",
              "      <td>False</td>\n",
              "      <td>True</td>\n",
              "      <td>False</td>\n",
              "      <td>True</td>\n",
              "      <td>True</td>\n",
              "      <td>...</td>\n",
              "      <td>False</td>\n",
              "      <td>True</td>\n",
              "      <td>False</td>\n",
              "      <td>False</td>\n",
              "      <td>False</td>\n",
              "      <td>True</td>\n",
              "      <td>False</td>\n",
              "      <td>False</td>\n",
              "      <td>False</td>\n",
              "      <td>True</td>\n",
              "    </tr>\n",
              "    <tr>\n",
              "      <th>7042</th>\n",
              "      <td>0</td>\n",
              "      <td>66</td>\n",
              "      <td>105.65</td>\n",
              "      <td>6844.50</td>\n",
              "      <td>0</td>\n",
              "      <td>False</td>\n",
              "      <td>True</td>\n",
              "      <td>True</td>\n",
              "      <td>False</td>\n",
              "      <td>True</td>\n",
              "      <td>...</td>\n",
              "      <td>True</td>\n",
              "      <td>False</td>\n",
              "      <td>False</td>\n",
              "      <td>True</td>\n",
              "      <td>False</td>\n",
              "      <td>True</td>\n",
              "      <td>True</td>\n",
              "      <td>False</td>\n",
              "      <td>False</td>\n",
              "      <td>False</td>\n",
              "    </tr>\n",
              "  </tbody>\n",
              "</table>\n",
              "<p>7043 rows × 46 columns</p>\n",
              "</div>"
            ],
            "text/plain": [
              "      SeniorCitizen  tenure  MonthlyCharges  TotalCharges  Churn  \\\n",
              "0                 0       1           29.85         29.85      0   \n",
              "1                 0      34           56.95       1889.50      0   \n",
              "2                 0       2           53.85        108.15      1   \n",
              "3                 0      45           42.30       1840.75      0   \n",
              "4                 0       2           70.70        151.65      1   \n",
              "...             ...     ...             ...           ...    ...   \n",
              "7038              0      24           84.80       1990.50      0   \n",
              "7039              0      72          103.20       7362.90      0   \n",
              "7040              0      11           29.60        346.45      0   \n",
              "7041              1       4           74.40        306.60      1   \n",
              "7042              0      66          105.65       6844.50      0   \n",
              "\n",
              "      gender_Female  gender_Male  Partner_No  Partner_Yes  Dependents_No  ...  \\\n",
              "0              True        False       False         True           True  ...   \n",
              "1             False         True        True        False           True  ...   \n",
              "2             False         True        True        False           True  ...   \n",
              "3             False         True        True        False           True  ...   \n",
              "4              True        False        True        False           True  ...   \n",
              "...             ...          ...         ...          ...            ...  ...   \n",
              "7038          False         True       False         True          False  ...   \n",
              "7039           True        False       False         True          False  ...   \n",
              "7040           True        False       False         True          False  ...   \n",
              "7041          False         True       False         True           True  ...   \n",
              "7042          False         True        True        False           True  ...   \n",
              "\n",
              "      StreamingMovies_Yes  Contract_Month-to-month  Contract_One year  \\\n",
              "0                   False                     True              False   \n",
              "1                   False                    False               True   \n",
              "2                   False                     True              False   \n",
              "3                   False                    False               True   \n",
              "4                   False                     True              False   \n",
              "...                   ...                      ...                ...   \n",
              "7038                 True                    False               True   \n",
              "7039                 True                    False               True   \n",
              "7040                False                     True              False   \n",
              "7041                False                     True              False   \n",
              "7042                 True                    False              False   \n",
              "\n",
              "      Contract_Two year  PaperlessBilling_No  PaperlessBilling_Yes  \\\n",
              "0                 False                False                  True   \n",
              "1                 False                 True                 False   \n",
              "2                 False                False                  True   \n",
              "3                 False                 True                 False   \n",
              "4                 False                False                  True   \n",
              "...                 ...                  ...                   ...   \n",
              "7038              False                False                  True   \n",
              "7039              False                False                  True   \n",
              "7040              False                False                  True   \n",
              "7041              False                False                  True   \n",
              "7042               True                False                  True   \n",
              "\n",
              "      PaymentMethod_Bank transfer (automatic)  \\\n",
              "0                                       False   \n",
              "1                                       False   \n",
              "2                                       False   \n",
              "3                                        True   \n",
              "4                                       False   \n",
              "...                                       ...   \n",
              "7038                                    False   \n",
              "7039                                    False   \n",
              "7040                                    False   \n",
              "7041                                    False   \n",
              "7042                                     True   \n",
              "\n",
              "      PaymentMethod_Credit card (automatic)  PaymentMethod_Electronic check  \\\n",
              "0                                     False                            True   \n",
              "1                                     False                           False   \n",
              "2                                     False                           False   \n",
              "3                                     False                           False   \n",
              "4                                     False                            True   \n",
              "...                                     ...                             ...   \n",
              "7038                                  False                           False   \n",
              "7039                                   True                           False   \n",
              "7040                                  False                            True   \n",
              "7041                                  False                           False   \n",
              "7042                                  False                           False   \n",
              "\n",
              "      PaymentMethod_Mailed check  \n",
              "0                          False  \n",
              "1                           True  \n",
              "2                           True  \n",
              "3                          False  \n",
              "4                          False  \n",
              "...                          ...  \n",
              "7038                        True  \n",
              "7039                       False  \n",
              "7040                       False  \n",
              "7041                        True  \n",
              "7042                       False  \n",
              "\n",
              "[7043 rows x 46 columns]"
            ]
          },
          "execution_count": 14,
          "metadata": {},
          "output_type": "execute_result"
        }
      ],
      "source": [
        "df_dummyfied = pd.get_dummies(df_dropped)\n",
        "df_dummyfied"
      ]
    },
    {
      "cell_type": "code",
      "execution_count": 15,
      "metadata": {
        "colab": {
          "base_uri": "https://localhost:8080/"
        },
        "id": "cUb67eZ-o7XW",
        "outputId": "d4b34654-4d4c-45b4-e069-89d4d3a6b42e"
      },
      "outputs": [
        {
          "data": {
            "text/plain": [
              "Index(['SeniorCitizen', 'tenure', 'MonthlyCharges', 'TotalCharges', 'Churn',\n",
              "       'gender_Female', 'gender_Male', 'Partner_No', 'Partner_Yes',\n",
              "       'Dependents_No', 'Dependents_Yes', 'PhoneService_No',\n",
              "       'PhoneService_Yes', 'MultipleLines_No',\n",
              "       'MultipleLines_No phone service', 'MultipleLines_Yes',\n",
              "       'InternetService_DSL', 'InternetService_Fiber optic',\n",
              "       'InternetService_No', 'OnlineSecurity_No',\n",
              "       'OnlineSecurity_No internet service', 'OnlineSecurity_Yes',\n",
              "       'OnlineBackup_No', 'OnlineBackup_No internet service',\n",
              "       'OnlineBackup_Yes', 'DeviceProtection_No',\n",
              "       'DeviceProtection_No internet service', 'DeviceProtection_Yes',\n",
              "       'TechSupport_No', 'TechSupport_No internet service', 'TechSupport_Yes',\n",
              "       'StreamingTV_No', 'StreamingTV_No internet service', 'StreamingTV_Yes',\n",
              "       'StreamingMovies_No', 'StreamingMovies_No internet service',\n",
              "       'StreamingMovies_Yes', 'Contract_Month-to-month', 'Contract_One year',\n",
              "       'Contract_Two year', 'PaperlessBilling_No', 'PaperlessBilling_Yes',\n",
              "       'PaymentMethod_Bank transfer (automatic)',\n",
              "       'PaymentMethod_Credit card (automatic)',\n",
              "       'PaymentMethod_Electronic check', 'PaymentMethod_Mailed check'],\n",
              "      dtype='object')"
            ]
          },
          "execution_count": 15,
          "metadata": {},
          "output_type": "execute_result"
        }
      ],
      "source": [
        "df_dummyfied.columns"
      ]
    },
    {
      "cell_type": "code",
      "execution_count": 16,
      "metadata": {
        "colab": {
          "base_uri": "https://localhost:8080/"
        },
        "id": "YfPf4npNoj37",
        "outputId": "050bdcb6-a529-42bb-da1a-57e7627e0680"
      },
      "outputs": [
        {
          "name": "stdout",
          "output_type": "stream",
          "text": [
            "Tamanho do DF das features: (7043, 45)\n",
            "Tamanho do DF da target: (7043,)\n"
          ]
        }
      ],
      "source": [
        "# Separando as features do dataset e a target\n",
        "\n",
        "X = df_dummyfied.drop(columns=['Churn'])\n",
        "\n",
        "y = df_dummyfied['Churn']\n",
        "\n",
        "# Sanity check\n",
        "print('Tamanho do DF das features: ' + str(X.shape))\n",
        "print('Tamanho do DF da target: ' + str(y.shape))"
      ]
    },
    {
      "cell_type": "code",
      "execution_count": 17,
      "metadata": {},
      "outputs": [
        {
          "name": "stdout",
          "output_type": "stream",
          "text": [
            "<class 'pandas.core.frame.DataFrame'>\n",
            "RangeIndex: 7043 entries, 0 to 7042\n",
            "Data columns (total 45 columns):\n",
            " #   Column                                   Non-Null Count  Dtype  \n",
            "---  ------                                   --------------  -----  \n",
            " 0   SeniorCitizen                            7043 non-null   int64  \n",
            " 1   tenure                                   7043 non-null   int64  \n",
            " 2   MonthlyCharges                           7043 non-null   float64\n",
            " 3   TotalCharges                             7043 non-null   float64\n",
            " 4   gender_Female                            7043 non-null   bool   \n",
            " 5   gender_Male                              7043 non-null   bool   \n",
            " 6   Partner_No                               7043 non-null   bool   \n",
            " 7   Partner_Yes                              7043 non-null   bool   \n",
            " 8   Dependents_No                            7043 non-null   bool   \n",
            " 9   Dependents_Yes                           7043 non-null   bool   \n",
            " 10  PhoneService_No                          7043 non-null   bool   \n",
            " 11  PhoneService_Yes                         7043 non-null   bool   \n",
            " 12  MultipleLines_No                         7043 non-null   bool   \n",
            " 13  MultipleLines_No phone service           7043 non-null   bool   \n",
            " 14  MultipleLines_Yes                        7043 non-null   bool   \n",
            " 15  InternetService_DSL                      7043 non-null   bool   \n",
            " 16  InternetService_Fiber optic              7043 non-null   bool   \n",
            " 17  InternetService_No                       7043 non-null   bool   \n",
            " 18  OnlineSecurity_No                        7043 non-null   bool   \n",
            " 19  OnlineSecurity_No internet service       7043 non-null   bool   \n",
            " 20  OnlineSecurity_Yes                       7043 non-null   bool   \n",
            " 21  OnlineBackup_No                          7043 non-null   bool   \n",
            " 22  OnlineBackup_No internet service         7043 non-null   bool   \n",
            " 23  OnlineBackup_Yes                         7043 non-null   bool   \n",
            " 24  DeviceProtection_No                      7043 non-null   bool   \n",
            " 25  DeviceProtection_No internet service     7043 non-null   bool   \n",
            " 26  DeviceProtection_Yes                     7043 non-null   bool   \n",
            " 27  TechSupport_No                           7043 non-null   bool   \n",
            " 28  TechSupport_No internet service          7043 non-null   bool   \n",
            " 29  TechSupport_Yes                          7043 non-null   bool   \n",
            " 30  StreamingTV_No                           7043 non-null   bool   \n",
            " 31  StreamingTV_No internet service          7043 non-null   bool   \n",
            " 32  StreamingTV_Yes                          7043 non-null   bool   \n",
            " 33  StreamingMovies_No                       7043 non-null   bool   \n",
            " 34  StreamingMovies_No internet service      7043 non-null   bool   \n",
            " 35  StreamingMovies_Yes                      7043 non-null   bool   \n",
            " 36  Contract_Month-to-month                  7043 non-null   bool   \n",
            " 37  Contract_One year                        7043 non-null   bool   \n",
            " 38  Contract_Two year                        7043 non-null   bool   \n",
            " 39  PaperlessBilling_No                      7043 non-null   bool   \n",
            " 40  PaperlessBilling_Yes                     7043 non-null   bool   \n",
            " 41  PaymentMethod_Bank transfer (automatic)  7043 non-null   bool   \n",
            " 42  PaymentMethod_Credit card (automatic)    7043 non-null   bool   \n",
            " 43  PaymentMethod_Electronic check           7043 non-null   bool   \n",
            " 44  PaymentMethod_Mailed check               7043 non-null   bool   \n",
            "dtypes: bool(41), float64(2), int64(2)\n",
            "memory usage: 502.2 KB\n"
          ]
        }
      ],
      "source": [
        "X.info()"
      ]
    },
    {
      "cell_type": "code",
      "execution_count": 18,
      "metadata": {},
      "outputs": [
        {
          "name": "stdout",
          "output_type": "stream",
          "text": [
            "<class 'pandas.core.series.Series'>\n",
            "RangeIndex: 7043 entries, 0 to 7042\n",
            "Series name: Churn\n",
            "Non-Null Count  Dtype\n",
            "--------------  -----\n",
            "7043 non-null   int32\n",
            "dtypes: int32(1)\n",
            "memory usage: 27.6 KB\n"
          ]
        }
      ],
      "source": [
        "y.info()"
      ]
    },
    {
      "cell_type": "markdown",
      "metadata": {},
      "source": [
        "# 2. Análise Exploratória dos Dados\n",
        "\n",
        "` [ALTERAR]Para fazermos a modelagem, precisamos conhecer muito bem os dados que estamos trabalhando. Por isso, nesta parte do projeto vocês desenvolveram an´laises e gráficos a respeito dos dados que estão utilizando. Tente tirar ao máximo informações sobre as variáveis em si e suas relações com as demais;`"
      ]
    },
    {
      "cell_type": "code",
      "execution_count": 19,
      "metadata": {},
      "outputs": [
        {
          "data": {
            "text/plain": [
              "<Axes: xlabel='Churn', ylabel='proportion'>"
            ]
          },
          "execution_count": 19,
          "metadata": {},
          "output_type": "execute_result"
        },
        {
          "data": {
            "image/png": "[encoded data removed]",
            "text/plain": [
              "<Figure size 640x480 with 1 Axes>"
            ]
          },
          "metadata": {},
          "output_type": "display_data"
        }
      ],
      "source": [
        "sns.barplot(y.value_counts(normalize=True))"
      ]
    },
    {
      "cell_type": "markdown",
      "metadata": {},
      "source": [
        "\n",
        "# 3. Modelagem dos dados\n",
        "A natureza do problema abordado consistirá na previsão do cliente em cometer ou não o churn, sendo por tanto um problema de classificação. Para prever o Churn dos clientes, testaremos 3 modelos - Regressão Logística,  XGBoost e KNN, e através das métricas do classification report (precisão, recall/revocação e f1-score), ROC e Matriz de Confusão, escolher qual será o modelo utilizado para a previsão de Churn. \n",
        "\n"
      ]
    },
    {
      "cell_type": "markdown",
      "metadata": {},
      "source": [
        "Primeiramente, temos que separar os nossos dados em treino e teste para termos uma porcentagem para treinar o modelo e depois predizê-lo. Para isso, foi utilizado o train_test_split do sklearn. Deixamos 20% para teste porque o dataset possui apenas 7043 dados, o que não é muito. Além disso foi necessário ativar o parâmetro stratify em função de y, pois a quantidade de churn e não churn está desbalanceada."
      ]
    },
    {
      "cell_type": "code",
      "execution_count": 20,
      "metadata": {
        "colab": {
          "base_uri": "https://localhost:8080/"
        },
        "id": "dXB5dEfVkReW",
        "outputId": "25dc1f39-a98f-42dd-c473-4c57fdee19cf"
      },
      "outputs": [
        {
          "name": "stdout",
          "output_type": "stream",
          "text": [
            "Tamanho do dataset de treino: 5634\n",
            "Tamanho do dataset de teste: 1409\n",
            "Proporção da target no treino: 0.2653532126375577\n",
            "Proporção da target no teste: 0.2654364797728886\n"
          ]
        }
      ],
      "source": [
        "#Dividindo o dataset em treino e teste\n",
        "X_train, X_test, y_train, y_test = train_test_split(X,\n",
        "                                                    y,\n",
        "                                                    test_size = 0.2,\n",
        "                                                    random_state = 42,\n",
        "                                                    stratify = y # Os dados estão desbalanceados conforme o gráfico de churn\n",
        ")\n",
        "\n",
        "# Verificando o tamanho e proporção\n",
        "print('Tamanho do dataset de treino: ' + str(len(y_train)))\n",
        "print('Tamanho do dataset de teste: ' + str(len(y_test)))\n",
        "print('Proporção da target no treino: ' + str(y_train.values.sum()/len(y_train)))\n",
        "print('Proporção da target no teste: ' + str(y_test.values.sum()/len(y_test)))\n",
        "\n",
        "# Verificando a Consistência\n",
        "assert len(y_train)+len(y_test) == len(y)"
      ]
    },
    {
      "cell_type": "markdown",
      "metadata": {},
      "source": [
        "Após a separação, é necessário normalizar os dados de treinos e de teste devido aos modelos baseados em distância, neste caso todos os escolhidos, performam melhor, não havendo distorção de distância."
      ]
    },
    {
      "cell_type": "code",
      "execution_count": 35,
      "metadata": {},
      "outputs": [
        {
          "name": "stdout",
          "output_type": "stream",
          "text": [
            "Média dos dados de treino após a normalização: -0.00\n",
            "Média dos dados de teste após a normalização: -0.00\n",
            "Desvio Padrão dos dados de treino após a normalização: 1.00\n",
            "Desvio Padrão dos dados de teste após a normalização: 1.00\n"
          ]
        }
      ],
      "source": [
        "# Padronizando os dados de treino e teste utilizando o modelo de padronização através do desvio padrão igual a 1 e média 0 \n",
        "scaler = StandardScaler()\n",
        "\n",
        "# Padronização/Normalização apenas nos dados de treino\n",
        "X_train_std = scaler.fit_transform(X_train)\n",
        "\n",
        "# Transformando os dados de teste baseado no treinamento\n",
        "X_test_std = scaler.transform(X_test)\n",
        "\n",
        "print(f'Média dos dados de treino após a normalização: {np.mean(X_train_std):.2f}')\n",
        "print(f'Média dos dados de teste após a normalização: {np.mean(X_test_std):.2f}')\n",
        "\n",
        "print(f'Desvio Padrão dos dados de treino após a normalização: {np.std(X_train_std, ddof=0):.2f}')\n",
        "print(f'Desvio Padrão dos dados de teste após a normalização: {np.std(X_test_std, ddof=0):.2f}')"
      ]
    },
    {
      "cell_type": "markdown",
      "metadata": {},
      "source": [
        "Após ter os dados de treino e teste normalizados, é possível aplicar os modelos propostos."
      ]
    },
    {
      "cell_type": "markdown",
      "metadata": {},
      "source": [
        "## 3.1 Regressão logística"
      ]
    },
    {
      "cell_type": "markdown",
      "metadata": {},
      "source": [
        "A regressão logística é uma técnica de classificação amplamente utilizada em problemas de classificação binária e um dos modelos clássicos. Este foi o principal motivo de termos escolhido este modelo para classificação de churn.\n",
        "\n",
        "A regressão logística modela a relação entre uma variável dependente binária (y) e uma ou mais variáveis independentes (X). Agora vamos aplicá-lo para o nosso problema: "
      ]
    },
    {
      "cell_type": "code",
      "execution_count": 38,
      "metadata": {},
      "outputs": [],
      "source": [
        "# Definindo o modelo de Regressão Logística\n",
        "modelo_log = LogisticRegression(solver='lbfgs',    # Algoritmo de otimização usado para ajustar os parâmetros do modelo\n",
        "                                max_iter=100       # O otimizador fará no máximo 100 iterações para encontrar os melhores parâmetros do modelo\n",
        ")\n",
        "\n",
        "# Treinando o modelo\n",
        "modelo_log.fit(X_train_std, y_train)\n",
        "\n",
        "# Predizendo o modelo\n",
        "y_pred_log = modelo_log.predict(X_test_std)"
      ]
    },
    {
      "cell_type": "code",
      "execution_count": 42,
      "metadata": {},
      "outputs": [
        {
          "data": {
            "text/html": [
              "<style>#sk-container-id-2 {color: black;}#sk-container-id-2 pre{padding: 0;}#sk-container-id-2 div.sk-toggleable {background-color: white;}#sk-container-id-2 label.sk-toggleable__label {cursor: pointer;display: block;width: 100%;margin-bottom: 0;padding: 0.3em;box-sizing: border-box;text-align: center;}#sk-container-id-2 label.sk-toggleable__label-arrow:before {content: \"▸\";float: left;margin-right: 0.25em;color: #696969;}#sk-container-id-2 label.sk-toggleable__label-arrow:hover:before {color: black;}#sk-container-id-2 div.sk-estimator:hover label.sk-toggleable__label-arrow:before {color: black;}#sk-container-id-2 div.sk-toggleable__content {max-height: 0;max-width: 0;overflow: hidden;text-align: left;background-color: #f0f8ff;}#sk-container-id-2 div.sk-toggleable__content pre {margin: 0.2em;color: black;border-radius: 0.25em;background-color: #f0f8ff;}#sk-container-id-2 input.sk-toggleable__control:checked~div.sk-toggleable__content {max-height: 200px;max-width: 100%;overflow: auto;}#sk-container-id-2 input.sk-toggleable__control:checked~label.sk-toggleable__label-arrow:before {content: \"▾\";}#sk-container-id-2 div.sk-estimator input.sk-toggleable__control:checked~label.sk-toggleable__label {background-color: #d4ebff;}#sk-container-id-2 div.sk-label input.sk-toggleable__control:checked~label.sk-toggleable__label {background-color: #d4ebff;}#sk-container-id-2 input.sk-hidden--visually {border: 0;clip: rect(1px 1px 1px 1px);clip: rect(1px, 1px, 1px, 1px);height: 1px;margin: -1px;overflow: hidden;padding: 0;position: absolute;width: 1px;}#sk-container-id-2 div.sk-estimator {font-family: monospace;background-color: #f0f8ff;border: 1px dotted black;border-radius: 0.25em;box-sizing: border-box;margin-bottom: 0.5em;}#sk-container-id-2 div.sk-estimator:hover {background-color: #d4ebff;}#sk-container-id-2 div.sk-parallel-item::after {content: \"\";width: 100%;border-bottom: 1px solid gray;flex-grow: 1;}#sk-container-id-2 div.sk-label:hover label.sk-toggleable__label {background-color: #d4ebff;}#sk-container-id-2 div.sk-serial::before {content: \"\";position: absolute;border-left: 1px solid gray;box-sizing: border-box;top: 0;bottom: 0;left: 50%;z-index: 0;}#sk-container-id-2 div.sk-serial {display: flex;flex-direction: column;align-items: center;background-color: white;padding-right: 0.2em;padding-left: 0.2em;position: relative;}#sk-container-id-2 div.sk-item {position: relative;z-index: 1;}#sk-container-id-2 div.sk-parallel {display: flex;align-items: stretch;justify-content: center;background-color: white;position: relative;}#sk-container-id-2 div.sk-item::before, #sk-container-id-2 div.sk-parallel-item::before {content: \"\";position: absolute;border-left: 1px solid gray;box-sizing: border-box;top: 0;bottom: 0;left: 50%;z-index: -1;}#sk-container-id-2 div.sk-parallel-item {display: flex;flex-direction: column;z-index: 1;position: relative;background-color: white;}#sk-container-id-2 div.sk-parallel-item:first-child::after {align-self: flex-end;width: 50%;}#sk-container-id-2 div.sk-parallel-item:last-child::after {align-self: flex-start;width: 50%;}#sk-container-id-2 div.sk-parallel-item:only-child::after {width: 0;}#sk-container-id-2 div.sk-dashed-wrapped {border: 1px dashed gray;margin: 0 0.4em 0.5em 0.4em;box-sizing: border-box;padding-bottom: 0.4em;background-color: white;}#sk-container-id-2 div.sk-label label {font-family: monospace;font-weight: bold;display: inline-block;line-height: 1.2em;}#sk-container-id-2 div.sk-label-container {text-align: center;}#sk-container-id-2 div.sk-container {/* jupyter's `normalize.less` sets `[hidden] { display: none; }` but bootstrap.min.css set `[hidden] { display: none !important; }` so we also need the `!important` here to be able to override the default hidden behavior on the sphinx rendered scikit-learn.org. See: https://github.com/scikit-learn/scikit-learn/issues/21755 */display: inline-block !important;position: relative;}#sk-container-id-2 div.sk-text-repr-fallback {display: none;}</style><div id=\"sk-container-id-2\" class=\"sk-top-container\"><div class=\"sk-text-repr-fallback\"><pre>LogisticRegression()</pre><b>In a Jupyter environment, please rerun this cell to show the HTML representation or trust the notebook. <br />On GitHub, the HTML representation is unable to render, please try loading this page with nbviewer.org.</b></div><div class=\"sk-container\" hidden><div class=\"sk-item\"><div class=\"sk-estimator sk-toggleable\"><input class=\"sk-toggleable__control sk-hidden--visually\" id=\"sk-estimator-id-2\" type=\"checkbox\" checked><label for=\"sk-estimator-id-2\" class=\"sk-toggleable__label sk-toggleable__label-arrow\">LogisticRegression</label><div class=\"sk-toggleable__content\"><pre>LogisticRegression()</pre></div></div></div></div></div>"
            ],
            "text/plain": [
              "LogisticRegression()"
            ]
          },
          "execution_count": 42,
          "metadata": {},
          "output_type": "execute_result"
        }
      ],
      "source": [
        "#Modelo fittado\n",
        "modelo_log"
      ]
    },
    {
      "cell_type": "markdown",
      "metadata": {},
      "source": [
        "## 3.2 XGBoost\n",
        "\n",
        "O algoritmo utiliza:\n",
        "- Gradient Boost (constroi sequencialmente árvores de decisão, cada uma corrigindo o erro da árvore anterior);\n",
        "- Regularização (penalização 'l1' e 'l2' para evitar overfitting);\n",
        "- Approximate Greedy Algorithm (encontra a melhor maneira de dividir os nós das árvores de decisão visando minimizar a função de perda global);\n",
        "- Parallel Learning (paraleliza o processo de treinamento em várias CPUs ou GPUs);\n",
        "- Weighted Quantile Sketch (encontra divisões ideais nos nós das árvores de decisão e leva em consideração os pesos das observações);\n",
        "- Sparsity-Aware split finding (lida com dados esparsos);\n",
        "- Cache-Aware Access (otimiza o acesso à memória durante o treinamento do modelo);\n",
        "- Blocks for Out-of-Core Computation (consegue fazer o treinamento fora da memória (out-of-core) dividindo os dados de treinamento em blocos, útil quando os dados não cabem na memória RAM).\n",
        "\n",
        "Vantagens: \n",
        "- É considerado um dos modelos mais poderosos para dados tabulares para classificação e também boa performance para os problemas de regressão;\n",
        "- Lida com dados esparsos;\n",
        "- Permite o uso de funções de perda personalizadas.\n",
        "\n",
        "Desvantagens: \n",
        "- Em conjuntos de dados pequenos pode ser propenso a overfitting;\n",
        "- Sensibilidade a hiperparâmetros (uma combinação errada de hiperparâmetros pode levar a overfitting ou underfitting);\n",
        "- Requer mais recursos computacionais o que pode afetar na velocidade de treinamento."
      ]
    },
    {
      "cell_type": "code",
      "execution_count": 40,
      "metadata": {},
      "outputs": [],
      "source": [
        "# Instanciando o modelo\n",
        "\n",
        "xgb = XGBClassifier()\n",
        "\n",
        "# Fazendo o fit do modelo\n",
        "\n",
        "xgb.fit(X_train_std, y_train)\n",
        "\n",
        "# Predição\n",
        "\n",
        "y_pred_xgb = xgb.predict(X_test_std)"
      ]
    },
    {
      "cell_type": "code",
      "execution_count": 43,
      "metadata": {},
      "outputs": [
        {
          "data": {
            "text/html": [
              "<style>#sk-container-id-3 {color: black;}#sk-container-id-3 pre{padding: 0;}#sk-container-id-3 div.sk-toggleable {background-color: white;}#sk-container-id-3 label.sk-toggleable__label {cursor: pointer;display: block;width: 100%;margin-bottom: 0;padding: 0.3em;box-sizing: border-box;text-align: center;}#sk-container-id-3 label.sk-toggleable__label-arrow:before {content: \"▸\";float: left;margin-right: 0.25em;color: #696969;}#sk-container-id-3 label.sk-toggleable__label-arrow:hover:before {color: black;}#sk-container-id-3 div.sk-estimator:hover label.sk-toggleable__label-arrow:before {color: black;}#sk-container-id-3 div.sk-toggleable__content {max-height: 0;max-width: 0;overflow: hidden;text-align: left;background-color: #f0f8ff;}#sk-container-id-3 div.sk-toggleable__content pre {margin: 0.2em;color: black;border-radius: 0.25em;background-color: #f0f8ff;}#sk-container-id-3 input.sk-toggleable__control:checked~div.sk-toggleable__content {max-height: 200px;max-width: 100%;overflow: auto;}#sk-container-id-3 input.sk-toggleable__control:checked~label.sk-toggleable__label-arrow:before {content: \"▾\";}#sk-container-id-3 div.sk-estimator input.sk-toggleable__control:checked~label.sk-toggleable__label {background-color: #d4ebff;}#sk-container-id-3 div.sk-label input.sk-toggleable__control:checked~label.sk-toggleable__label {background-color: #d4ebff;}#sk-container-id-3 input.sk-hidden--visually {border: 0;clip: rect(1px 1px 1px 1px);clip: rect(1px, 1px, 1px, 1px);height: 1px;margin: -1px;overflow: hidden;padding: 0;position: absolute;width: 1px;}#sk-container-id-3 div.sk-estimator {font-family: monospace;background-color: #f0f8ff;border: 1px dotted black;border-radius: 0.25em;box-sizing: border-box;margin-bottom: 0.5em;}#sk-container-id-3 div.sk-estimator:hover {background-color: #d4ebff;}#sk-container-id-3 div.sk-parallel-item::after {content: \"\";width: 100%;border-bottom: 1px solid gray;flex-grow: 1;}#sk-container-id-3 div.sk-label:hover label.sk-toggleable__label {background-color: #d4ebff;}#sk-container-id-3 div.sk-serial::before {content: \"\";position: absolute;border-left: 1px solid gray;box-sizing: border-box;top: 0;bottom: 0;left: 50%;z-index: 0;}#sk-container-id-3 div.sk-serial {display: flex;flex-direction: column;align-items: center;background-color: white;padding-right: 0.2em;padding-left: 0.2em;position: relative;}#sk-container-id-3 div.sk-item {position: relative;z-index: 1;}#sk-container-id-3 div.sk-parallel {display: flex;align-items: stretch;justify-content: center;background-color: white;position: relative;}#sk-container-id-3 div.sk-item::before, #sk-container-id-3 div.sk-parallel-item::before {content: \"\";position: absolute;border-left: 1px solid gray;box-sizing: border-box;top: 0;bottom: 0;left: 50%;z-index: -1;}#sk-container-id-3 div.sk-parallel-item {display: flex;flex-direction: column;z-index: 1;position: relative;background-color: white;}#sk-container-id-3 div.sk-parallel-item:first-child::after {align-self: flex-end;width: 50%;}#sk-container-id-3 div.sk-parallel-item:last-child::after {align-self: flex-start;width: 50%;}#sk-container-id-3 div.sk-parallel-item:only-child::after {width: 0;}#sk-container-id-3 div.sk-dashed-wrapped {border: 1px dashed gray;margin: 0 0.4em 0.5em 0.4em;box-sizing: border-box;padding-bottom: 0.4em;background-color: white;}#sk-container-id-3 div.sk-label label {font-family: monospace;font-weight: bold;display: inline-block;line-height: 1.2em;}#sk-container-id-3 div.sk-label-container {text-align: center;}#sk-container-id-3 div.sk-container {/* jupyter's `normalize.less` sets `[hidden] { display: none; }` but bootstrap.min.css set `[hidden] { display: none !important; }` so we also need the `!important` here to be able to override the default hidden behavior on the sphinx rendered scikit-learn.org. See: https://github.com/scikit-learn/scikit-learn/issues/21755 */display: inline-block !important;position: relative;}#sk-container-id-3 div.sk-text-repr-fallback {display: none;}</style><div id=\"sk-container-id-3\" class=\"sk-top-container\"><div class=\"sk-text-repr-fallback\"><pre>XGBClassifier(base_score=None, booster=None, callbacks=None,\n",
              "              colsample_bylevel=None, colsample_bynode=None,\n",
              "              colsample_bytree=None, device=None, early_stopping_rounds=None,\n",
              "              enable_categorical=False, eval_metric=None, feature_types=None,\n",
              "              gamma=None, grow_policy=None, importance_type=None,\n",
              "              interaction_constraints=None, learning_rate=None, max_bin=None,\n",
              "              max_cat_threshold=None, max_cat_to_onehot=None,\n",
              "              max_delta_step=None, max_depth=None, max_leaves=None,\n",
              "              min_child_weight=None, missing=nan, monotone_constraints=None,\n",
              "              multi_strategy=None, n_estimators=None, n_jobs=None,\n",
              "              num_parallel_tree=None, random_state=None, ...)</pre><b>In a Jupyter environment, please rerun this cell to show the HTML representation or trust the notebook. <br />On GitHub, the HTML representation is unable to render, please try loading this page with nbviewer.org.</b></div><div class=\"sk-container\" hidden><div class=\"sk-item\"><div class=\"sk-estimator sk-toggleable\"><input class=\"sk-toggleable__control sk-hidden--visually\" id=\"sk-estimator-id-3\" type=\"checkbox\" checked><label for=\"sk-estimator-id-3\" class=\"sk-toggleable__label sk-toggleable__label-arrow\">XGBClassifier</label><div class=\"sk-toggleable__content\"><pre>XGBClassifier(base_score=None, booster=None, callbacks=None,\n",
              "              colsample_bylevel=None, colsample_bynode=None,\n",
              "              colsample_bytree=None, device=None, early_stopping_rounds=None,\n",
              "              enable_categorical=False, eval_metric=None, feature_types=None,\n",
              "              gamma=None, grow_policy=None, importance_type=None,\n",
              "              interaction_constraints=None, learning_rate=None, max_bin=None,\n",
              "              max_cat_threshold=None, max_cat_to_onehot=None,\n",
              "              max_delta_step=None, max_depth=None, max_leaves=None,\n",
              "              min_child_weight=None, missing=nan, monotone_constraints=None,\n",
              "              multi_strategy=None, n_estimators=None, n_jobs=None,\n",
              "              num_parallel_tree=None, random_state=None, ...)</pre></div></div></div></div></div>"
            ],
            "text/plain": [
              "XGBClassifier(base_score=None, booster=None, callbacks=None,\n",
              "              colsample_bylevel=None, colsample_bynode=None,\n",
              "              colsample_bytree=None, device=None, early_stopping_rounds=None,\n",
              "              enable_categorical=False, eval_metric=None, feature_types=None,\n",
              "              gamma=None, grow_policy=None, importance_type=None,\n",
              "              interaction_constraints=None, learning_rate=None, max_bin=None,\n",
              "              max_cat_threshold=None, max_cat_to_onehot=None,\n",
              "              max_delta_step=None, max_depth=None, max_leaves=None,\n",
              "              min_child_weight=None, missing=nan, monotone_constraints=None,\n",
              "              multi_strategy=None, n_estimators=None, n_jobs=None,\n",
              "              num_parallel_tree=None, random_state=None, ...)"
            ]
          },
          "execution_count": 43,
          "metadata": {},
          "output_type": "execute_result"
        }
      ],
      "source": [
        "#Modelo fittado\n",
        "xgb"
      ]
    },
    {
      "cell_type": "markdown",
      "metadata": {},
      "source": [
        "## 3.3 KNN\n",
        "Através do cálculo de distância e seus vizinhos próximos, é possível prever em qual classe o cliente está inserido (Churn ou não Churn) com o KNN. \n",
        "\n",
        "O primeiro passo é escolher o valor de K, pois dependendo do valor de K, temos diferentes cenários:\n",
        "\n",
        "- K baixo: aumenta a complexidade, aumenta a variância ( atenção ao overfiting) e baixo viés\n",
        "- K alto: diminui a complexidade, diminui a variância (atenção ao underfiting) e aumenta o viés\n",
        "\n",
        "Portanto o propósito é escolher um K que não tenha alto overfiting ou alto underfiting."
      ]
    },
    {
      "cell_type": "markdown",
      "metadata": {},
      "source": [
        "A curva de complexidade mostra como o desempenho do modelo (precisão) varia com diferentes valores de k, que representam o número de vizinhos considerados ao fazer previsões com o kNN."
      ]
    },
    {
      "cell_type": "code",
      "execution_count": 46,
      "metadata": {},
      "outputs": [],
      "source": [
        "\n",
        "# Definindo a função de plot da curva de complexidade\n",
        "def plot_complexity_curve(\n",
        "    k_list,\n",
        "    knn_model,\n",
        "    x_train,\n",
        "    x_test,\n",
        "    y_train,\n",
        "    y_test):\n",
        "  train_scores = []\n",
        "  test_scores = []\n",
        "\n",
        "  for k in k_list:\n",
        "    knn = knn_model(k)\n",
        "    knn.fit(x_train, y_train)\n",
        "    train_scores.append(knn.score(x_train, y_train))\n",
        "    test_scores.append(knn.score(x_test, y_test))\n",
        "\n",
        "  fig, ax = plt.subplots(figsize=(12, 8))\n",
        "  ax.plot(k_list, train_scores, label = 'Train acc', color='blue')\n",
        "  ax.plot(k_list, test_scores, label = 'Test acc', color='red')\n",
        "\n",
        "  ax.set(\n",
        "      title='kNN com diferentes valores de $k$',\n",
        "      xlabel='Número de vizinhos',\n",
        "      ylabel='Acc'\n",
        "  )\n",
        "  ax.legend()\n",
        "\n",
        "  return (train_scores, test_scores)\n"
      ]
    },
    {
      "cell_type": "code",
      "execution_count": 47,
      "metadata": {},
      "outputs": [
        {
          "data": {
            "image/png": "[encoded data removed]",
            "text/plain": [
              "<Figure size 1200x800 with 1 Axes>"
            ]
          },
          "metadata": {},
          "output_type": "display_data"
        }
      ],
      "source": [
        "#Criando uma lista de valores de K\n",
        "k_lista = np.arange(1, 100)\n",
        "\n",
        "# Plotando a curva de complexidade\n",
        "train_scores, test_scores = plot_complexity_curve(\n",
        "    k_list=k_lista,\n",
        "    knn_model=KNeighborsClassifier,\n",
        "    x_train=X_train_std,\n",
        "    x_test=X_test_std,\n",
        "    y_train=y_train,\n",
        "    y_test=y_test\n",
        ")"
      ]
    },
    {
      "cell_type": "markdown",
      "metadata": {},
      "source": [
        "Observando o gráfico e os valores de acuária dos dados de Teste, podemos ver que o K que possui maior acurácia é o K próximo de 40. Abaixo de K= 8 há um overfiting e próximo a 80, o modelo começa a apresentar underfiting. Agora vamos pegar o melhor valor de K:"
      ]
    },
    {
      "cell_type": "code",
      "execution_count": 48,
      "metadata": {},
      "outputs": [
        {
          "data": {
            "image/png": "[encoded data removed]",
            "text/plain": [
              "<Figure size 640x480 with 1 Axes>"
            ]
          },
          "metadata": {},
          "output_type": "display_data"
        },
        {
          "name": "stdout",
          "output_type": "stream",
          "text": [
            "Valor ótimo de k: 41\n"
          ]
        }
      ],
      "source": [
        "# Encontrando o valor de k value que minimniza o a diferença\n",
        "score_diff = np.array(train_scores) - np.array(test_scores)\n",
        "optimal_k = k_lista[np.argmin(score_diff)]\n",
        "\n",
        "# Plotando a diferença de score\n",
        "sns.scatterplot(x=k_lista, y=score_diff)\n",
        "plt.xlabel('k')\n",
        "plt.ylabel('Train Score - Test Score')\n",
        "plt.title('Seleção do k ótimo')\n",
        "plt.show()\n",
        "\n",
        "print(f\"Valor ótimo de k: {optimal_k}\")"
      ]
    },
    {
      "cell_type": "markdown",
      "metadata": {},
      "source": [
        "Através do gráfico acima, temos que o pico mínimo é onde K = 41, sendo este o K que será utilizado no modelo a seguir."
      ]
    },
    {
      "cell_type": "code",
      "execution_count": 54,
      "metadata": {},
      "outputs": [
        {
          "name": "stdout",
          "output_type": "stream",
          "text": [
            "Tempo de fitting:  0.0054 segundos\n",
            "Tempo de predição:  0.1733 segundos\n"
          ]
        }
      ],
      "source": [
        "import time\n",
        "\n",
        "# Start timer do fitting\n",
        "start_time_fit = time.time()\n",
        "\n",
        "knn = KNeighborsClassifier(41)\n",
        "knn.fit(X_train_std, y_train)\n",
        "\n",
        "# End timer do fitting\n",
        "end_time_fit = time.time()\n",
        "\n",
        "# Start do timer para a predição\n",
        "start_time_predict = time.time()\n",
        "\n",
        "y_pred_knn = knn.predict(X_test_std)\n",
        "\n",
        "# End timer da predição\n",
        "end_time_predict = time.time()\n",
        "\n",
        "# Cálculo do tempo de fitting e predição\n",
        "fitting_time = end_time_fit - start_time_fit\n",
        "prediction_time = end_time_predict - start_time_predict\n",
        "\n",
        "print(f\"Tempo de fitting: {fitting_time: .4f} segundos\")\n",
        "print(f\"Tempo de predição: {prediction_time: .4f} segundos\")"
      ]
    },
    {
      "cell_type": "markdown",
      "metadata": {},
      "source": [
        "O KNN possui o aprendizado preguiçoso e por isso o resultado do fitting é infinitamente menor que na predição. A distância dos dados de treino só é calculado no momento de predição, justificando o tempo tão grande quando comparado ao fitting."
      ]
    },
    {
      "cell_type": "markdown",
      "metadata": {},
      "source": [
        "## 3.4 Comparação entre os modelos"
      ]
    },
    {
      "cell_type": "markdown",
      "metadata": {},
      "source": [
        "As métricas iniciais que podemos observar são as do relatório de classificação."
      ]
    },
    {
      "cell_type": "markdown",
      "metadata": {},
      "source": [
        "### 3.4.1 Classification Report"
      ]
    },
    {
      "cell_type": "code",
      "execution_count": 51,
      "metadata": {},
      "outputs": [
        {
          "name": "stdout",
          "output_type": "stream",
          "text": [
            "              precision    recall  f1-score   support\n",
            "\n",
            "           0       0.85      0.89      0.87      1035\n",
            "           1       0.66      0.57      0.61       374\n",
            "\n",
            "    accuracy                           0.81      1409\n",
            "   macro avg       0.76      0.73      0.74      1409\n",
            "weighted avg       0.80      0.81      0.80      1409\n",
            "\n"
          ]
        }
      ],
      "source": [
        "# Verificando métricas para o modelo construído - Regressão Logística\n",
        "from sklearn.metrics import classification_report\n",
        "\n",
        "print(classification_report(y_test, y_pred_log))"
      ]
    },
    {
      "cell_type": "code",
      "execution_count": 52,
      "metadata": {},
      "outputs": [
        {
          "name": "stdout",
          "output_type": "stream",
          "text": [
            "              precision    recall  f1-score   support\n",
            "\n",
            "           0       0.83      0.87      0.85      1035\n",
            "           1       0.59      0.52      0.55       374\n",
            "\n",
            "    accuracy                           0.78      1409\n",
            "   macro avg       0.71      0.69      0.70      1409\n",
            "weighted avg       0.77      0.78      0.77      1409\n",
            "\n"
          ]
        }
      ],
      "source": [
        "# Verificando métricas para o modelo construído - XGBoost\n",
        "\n",
        "from sklearn.metrics import classification_report\n",
        "\n",
        "print(classification_report(y_test, y_pred_xgb))"
      ]
    },
    {
      "cell_type": "code",
      "execution_count": 55,
      "metadata": {},
      "outputs": [
        {
          "name": "stdout",
          "output_type": "stream",
          "text": [
            "              precision    recall  f1-score   support\n",
            "\n",
            "           0       0.85      0.85      0.85      1035\n",
            "           1       0.59      0.58      0.59       374\n",
            "\n",
            "    accuracy                           0.78      1409\n",
            "   macro avg       0.72      0.72      0.72      1409\n",
            "weighted avg       0.78      0.78      0.78      1409\n",
            "\n"
          ]
        }
      ],
      "source": [
        "# Verificando métricas para o modelo construído - KNN\n",
        "print(classification_report(y_test, y_pred_knn))"
      ]
    },
    {
      "cell_type": "markdown",
      "metadata": {},
      "source": [
        "Agora vamos comparar as métricas obtidas: \n",
        "1. *Acurácia*: é a % de classificação correta do modelo. Comparando os 3 modelos propostos, a regressão logística possui a maior acurácia (81%);\n",
        "2. *Precisão*: É a razão entre os Verdadeiros Positivos e o que foi predito. Neste caso para a classe 0, o modelo de regressão logística e KNN empataram em 85 % e para a classe 1, o modelo de regressão logística se sobressaiu com 66%;\n",
        "3. *Recall/ Revocação*: É a razão entre o Verdadeiro Positivo e o label original. A regressão logística obteve melhor resultado para a classe 0, com 89% e o KNN obteve melhor resultado para a classe 1 com 58%;\n",
        "4. *f1-score*: É a média harmîonica entre precisão e revocação. Neste ponto o modelo de Regressão logística obteve a melhor métrica, com 87% para a classe 0 e 61% para a classe 1.\n",
        "\n",
        "Deste modo, o modelo com as melhores métricas foi o de Regressão Logística."
      ]
    },
    {
      "cell_type": "markdown",
      "metadata": {},
      "source": [
        "### 3.4.2 Matriz de Confusão"
      ]
    },
    {
      "cell_type": "code",
      "execution_count": null,
      "metadata": {},
      "outputs": [
        {
          "data": {
            "image/png": "[encoded data removed]",
            "text/plain": [
              "<Figure size 640x480 with 1 Axes>"
            ]
          },
          "metadata": {},
          "output_type": "display_data"
        }
      ],
      "source": [
        "# Verificando matriz de confusão - Regressão Logística\n",
        "\n",
        "from mlxtend.plotting import plot_confusion_matrix\n",
        "from sklearn.metrics import confusion_matrix\n",
        "\n",
        "cm = confusion_matrix(y_test, y_pred_log)\n",
        "\n",
        "plot_confusion_matrix(conf_mat=cm)\n",
        "plt.title('Confusion Matrix - Regressão Logística') \n",
        "plt.show()"
      ]
    },
    {
      "cell_type": "code",
      "execution_count": null,
      "metadata": {},
      "outputs": [
        {
          "data": {
            "image/png": "[encoded data removed]",
            "text/plain": [
              "<Figure size 640x480 with 1 Axes>"
            ]
          },
          "metadata": {},
          "output_type": "display_data"
        }
      ],
      "source": [
        "# Verificando matriz de confusão - XGBoost\n",
        "from sklearn.metrics import confusion_matrix\n",
        "from mlxtend.plotting import plot_confusion_matrix\n",
        "\n",
        "cm = confusion_matrix(y_test,  y_pred_xgb)\n",
        "\n",
        "plot_confusion_matrix(conf_mat=cm)\n",
        "plt.title('Confusion Matrix - XGBoost') \n",
        "plt.show()"
      ]
    },
    {
      "cell_type": "code",
      "execution_count": null,
      "metadata": {},
      "outputs": [
        {
          "data": {
            "image/png": "[encoded data removed]",
            "text/plain": [
              "<Figure size 640x480 with 1 Axes>"
            ]
          },
          "metadata": {},
          "output_type": "display_data"
        }
      ],
      "source": [
        "# Verificando matriz de confusão - KNN\n",
        "from mlxtend.plotting import plot_confusion_matrix\n",
        "from sklearn.metrics import confusion_matrix\n",
        "\n",
        "cm = confusion_matrix(y_test, y_pred_knn)\n",
        "\n",
        "plot_confusion_matrix(conf_mat=cm)\n",
        "plt.title('Confusion Matrix - KNN') \n",
        "plt.show()"
      ]
    },
    {
      "cell_type": "markdown",
      "metadata": {},
      "source": [
        "- Regressão Logística:\n",
        "\n",
        "Verdadeiros Positivos (TP): 926\n",
        "Falsos Positivos (FP): 109\n",
        "Falsos Negativos (FN): 162\n",
        "Verdadeiros Negativos (TN): 212\n",
        "\n",
        "- XGBoost:\n",
        "\n",
        "Verdadeiros Positivos (TP): 898\n",
        "Falsos Positivos (FP): 137\n",
        "Falsos Negativos (FN): 180\n",
        "Verdadeiros Negativos (TN): 194\n",
        "\n",
        "- KNN:\n",
        "\n",
        "Verdadeiros Positivos (TP): 882\n",
        "Falsos Positivos (FP): 153\n",
        "Falsos Negativos (FN): 156\n",
        "Verdadeiros Negativos (TN): 218\n",
        "\n",
        "\n",
        "A Regressão Logística tem o maior número de verdadeiros positivos (926). Isso quer dizer que ela identificou esse número de casos de Churn. Outra comparação é que ela também tem a menor quantidade de falsos positivos (109) e falsos negativos (162), indicando que o modelo errou menos vezes quando previu Churn falso e que perdeu menos casos comparado com os outros modelos. Portanto, com base na análise da matriz de confusão e das métricas associadas, a Regressão Lógica teve o melhor desempenho comparado com os outros modelos na previsão de Churn.\n"
      ]
    },
    {
      "cell_type": "markdown",
      "metadata": {},
      "source": [
        "### 3.4.3 ROC - AUC"
      ]
    },
    {
      "cell_type": "markdown",
      "metadata": {},
      "source": [
        "Além das métricas usuais (acurácia, precisão, recall e f1-score), podemos também avaliar a métrica AUC-ROC uma vez que estamos lidando com problema de classificação.\n",
        "\n",
        "Essa métrica mede a área abaixo da curva ROC (Receiver Operating Characteristics) que é uma curva de probabilidade e AUC (Area Under the Curve) é a área sob a curva. \n",
        "\n",
        "Dessa forma podemos medir o grau de separabilidade do modelo que está no intervalo [0, 1]. Quanto mais próximo de 1, mais o modelo acerta. Quanto mais próximo de 0, o modelo separa bem as classes, mas classifica erroneamente. Quanto mais perto de 0.5 o modelo é pior em separar as classes."
      ]
    },
    {
      "cell_type": "code",
      "execution_count": 57,
      "metadata": {},
      "outputs": [
        {
          "name": "stdout",
          "output_type": "stream",
          "text": [
            "ROC-AUC Score Regressão Logística: 0.8417680642744582\n"
          ]
        }
      ],
      "source": [
        "# Verificando ROC-AUC Score - Regressão Logística\n",
        "y_prob_log = modelo_log.predict_proba(X_test_std)\n",
        "\n",
        "print(\"ROC-AUC Score Regressão Logística:\", roc_auc_score(y_test, y_prob_log[:, 1]))"
      ]
    },
    {
      "cell_type": "code",
      "execution_count": 61,
      "metadata": {},
      "outputs": [
        {
          "name": "stderr",
          "output_type": "stream",
          "text": [
            "c:\\Users\\manus\\AppData\\Local\\Programs\\Python\\Python311\\Lib\\site-packages\\sklearn\\utils\\deprecation.py:86: FutureWarning: Function plot_roc_curve is deprecated; This will be removed in v0.5.0. Please use scikitplot.metrics.plot_roc instead.\n",
            "  warnings.warn(msg, category=FutureWarning)\n"
          ]
        },
        {
          "data": {
            "image/png": "[encoded data removed]",
            "text/plain": [
              "<Figure size 640x480 with 1 Axes>"
            ]
          },
          "metadata": {},
          "output_type": "display_data"
        }
      ],
      "source": [
        "# Plot ROC Curves  - Regressão Logística\n",
        "skplt.metrics.plot_roc_curve(y_test, y_prob_log)\n",
        "plt.title('ROC Curves - Regressão Logística')\n",
        "plt.show()"
      ]
    },
    {
      "cell_type": "code",
      "execution_count": 62,
      "metadata": {},
      "outputs": [
        {
          "name": "stdout",
          "output_type": "stream",
          "text": [
            "ROC-AUC Score para o XGBoost: 0.8190214162081169\n"
          ]
        }
      ],
      "source": [
        "# Verificando ROC-AUC Score - XGBoost\n",
        "\n",
        "y_prob_xgb = xgb.predict_proba(X_test_std)\n",
        "\n",
        "print(\"ROC-AUC Score para o XGBoost:\", roc_auc_score(y_test, y_prob_xgb[:, 1]))"
      ]
    },
    {
      "cell_type": "code",
      "execution_count": null,
      "metadata": {},
      "outputs": [
        {
          "name": "stderr",
          "output_type": "stream",
          "text": [
            "c:\\Users\\DELL\\anaconda3\\lib\\site-packages\\sklearn\\utils\\deprecation.py:86: FutureWarning: Function plot_roc_curve is deprecated; This will be removed in v0.5.0. Please use scikitplot.metrics.plot_roc instead.\n",
            "  warnings.warn(msg, category=FutureWarning)\n"
          ]
        },
        {
          "data": {
            "image/png": "[encoded data removed]",
            "text/plain": [
              "<Figure size 640x480 with 1 Axes>"
            ]
          },
          "metadata": {},
          "output_type": "display_data"
        }
      ],
      "source": [
        "# Plot ROC Curves - XGBoost\n",
        "import scikitplot as skplt\n",
        "import matplotlib.pyplot as plt\n",
        "\n",
        "skplt.metrics.plot_roc_curve(y_test, y_prob_xgb)\n",
        "plt.title('ROC Curves - XGBoost')\n",
        "plt.show()"
      ]
    },
    {
      "cell_type": "code",
      "execution_count": 64,
      "metadata": {},
      "outputs": [
        {
          "name": "stdout",
          "output_type": "stream",
          "text": [
            "ROC-AUC Score KNN: 0.8207083623963418\n"
          ]
        }
      ],
      "source": [
        "# Verificando ROC-AUC Score - KNN\n",
        "y_prob_knn = knn.predict_proba(X_test_std)\n",
        "\n",
        "print(\"ROC-AUC Score KNN:\", roc_auc_score(y_test, y_prob_knn[:, 1]))"
      ]
    },
    {
      "cell_type": "code",
      "execution_count": 66,
      "metadata": {},
      "outputs": [
        {
          "name": "stderr",
          "output_type": "stream",
          "text": [
            "c:\\Users\\manus\\AppData\\Local\\Programs\\Python\\Python311\\Lib\\site-packages\\sklearn\\utils\\deprecation.py:86: FutureWarning: Function plot_roc_curve is deprecated; This will be removed in v0.5.0. Please use scikitplot.metrics.plot_roc instead.\n",
            "  warnings.warn(msg, category=FutureWarning)\n"
          ]
        },
        {
          "data": {
            "image/png": "[encoded data removed]",
            "text/plain": [
              "<Figure size 640x480 with 1 Axes>"
            ]
          },
          "metadata": {},
          "output_type": "display_data"
        }
      ],
      "source": [
        "# Plot ROC Curves - KNN\n",
        "skplt.metrics.plot_roc_curve(y_test, y_prob_knn)\n",
        "plt.title('ROC Curves - KNN')\n",
        "plt.show()"
      ]
    },
    {
      "cell_type": "markdown",
      "metadata": {},
      "source": [
        "# 4. Otimização do Modelo"
      ]
    },
    {
      "cell_type": "markdown",
      "metadata": {},
      "source": [
        "Para a otimização de um modelo precisamos conhecer seus hiperparâmetros."
      ]
    },
    {
      "cell_type": "code",
      "execution_count": null,
      "metadata": {},
      "outputs": [
        {
          "name": "stdout",
          "output_type": "stream",
          "text": [
            "{'C': 1.0,\n",
            " 'class_weight': None,\n",
            " 'dual': False,\n",
            " 'fit_intercept': True,\n",
            " 'intercept_scaling': 1,\n",
            " 'l1_ratio': None,\n",
            " 'max_iter': 100,\n",
            " 'multi_class': 'auto',\n",
            " 'n_jobs': None,\n",
            " 'penalty': 'l2',\n",
            " 'random_state': None,\n",
            " 'solver': 'lbfgs',\n",
            " 'tol': 0.0001,\n",
            " 'verbose': 0,\n",
            " 'warm_start': False}\n"
          ]
        }
      ],
      "source": [
        "from pprint import pprint\n",
        "parametros_rg = modelo_log.get_params()\n",
        "pprint(parametros_rg)"
      ]
    },
    {
      "cell_type": "markdown",
      "metadata": {},
      "source": [
        "Os parâmetros escolhidos para a otimização foram: solver, penalty, C, max_iter.\n",
        "\n",
        "Uma observação a ser feita: Alguns solvers não admitem algumas métricas, dessa forma, não conseguimos usar todos os solvers e todas as regularizações para as possíveis combinações de parâmetros."
      ]
    },
    {
      "cell_type": "markdown",
      "metadata": {},
      "source": [
        "## 4.1 Otimização com Randomized Search e validação cruzada"
      ]
    },
    {
      "cell_type": "code",
      "execution_count": 68,
      "metadata": {},
      "outputs": [
        {
          "name": "stdout",
          "output_type": "stream",
          "text": [
            "Fitting 5 folds for each of 100 candidates, totalling 500 fits\n"
          ]
        },
        {
          "name": "stderr",
          "output_type": "stream",
          "text": [
            "c:\\Users\\manus\\AppData\\Local\\Programs\\Python\\Python311\\Lib\\site-packages\\sklearn\\linear_model\\_sag.py:350: ConvergenceWarning: The max_iter was reached which means the coef_ did not converge\n",
            "  warnings.warn(\n"
          ]
        }
      ],
      "source": [
        "# Kfold para fazer a validação cruzada\n",
        "kfold_strat = StratifiedKFold(n_splits = 5)\n",
        "\n",
        "# Parâmetros a serem otimizados\n",
        "solver = ['saga', 'liblinear']\n",
        "penalty = ['l1', 'l2']\n",
        "C = [0.001, 0.01, 0.1, 1, 10]\n",
        "max_iter = [100, 200, 300, 400, 500, 600, 700, 800, 1000]\n",
        "\n",
        "parametros_rg = {\n",
        "    \"solver\": solver,\n",
        "    \"penalty\": penalty,\n",
        "    \"C\": C,\n",
        "    \"max_iter\": max_iter\n",
        "}\n",
        "\n",
        "# Instanciando o Random Search\n",
        "random_search_rg = RandomizedSearchCV(\n",
        "    estimator = modelo_log,\n",
        "    param_distributions = parametros_rg,\n",
        "    n_iter = 100,\n",
        "    scoring = 'accuracy',\n",
        "    cv = kfold_strat, \n",
        "    verbose = 2, # Score is also displayed\n",
        "    n_jobs = -1\n",
        ")\n",
        "\n",
        "# Fit\n",
        "random_search_rg.fit(X_train_std, y_train)\n",
        "\n",
        "# Obtendo os melhores parâmetros\n",
        "melhores_parametros_rs = random_search_rg.best_params_"
      ]
    },
    {
      "cell_type": "code",
      "execution_count": 69,
      "metadata": {},
      "outputs": [
        {
          "data": {
            "text/plain": [
              "{'solver': 'saga', 'penalty': 'l1', 'max_iter': 400, 'C': 10}"
            ]
          },
          "execution_count": 69,
          "metadata": {},
          "output_type": "execute_result"
        }
      ],
      "source": [
        "melhores_parametros_rs"
      ]
    },
    {
      "cell_type": "code",
      "execution_count": 70,
      "metadata": {},
      "outputs": [
        {
          "name": "stderr",
          "output_type": "stream",
          "text": [
            "c:\\Users\\manus\\AppData\\Local\\Programs\\Python\\Python311\\Lib\\site-packages\\sklearn\\linear_model\\_sag.py:350: ConvergenceWarning: The max_iter was reached which means the coef_ did not converge\n",
            "  warnings.warn(\n"
          ]
        }
      ],
      "source": [
        "# Instanciando modelo de Regressão Logística Otimizado\n",
        "modelo_log_otimizado = LogisticRegression(**melhores_parametros_rs)\n",
        "\n",
        "# Fazendo o fit\n",
        "modelo_log_otimizado.fit(X_train_std, y_train)\n",
        "\n",
        "# Predição\n",
        "y_pred_log_otimizado = modelo_log_otimizado.predict(X_test_std)"
      ]
    },
    {
      "cell_type": "code",
      "execution_count": 71,
      "metadata": {},
      "outputs": [
        {
          "name": "stdout",
          "output_type": "stream",
          "text": [
            "              precision    recall  f1-score   support\n",
            "\n",
            "           0       0.85      0.89      0.87      1035\n",
            "           1       0.65      0.55      0.60       374\n",
            "\n",
            "    accuracy                           0.80      1409\n",
            "   macro avg       0.75      0.72      0.73      1409\n",
            "weighted avg       0.80      0.80      0.80      1409\n",
            "\n"
          ]
        }
      ],
      "source": [
        "# Verificando métricas para o modelo construído - Regressão Logística Otimizado\n",
        "\n",
        "print(classification_report(y_test, y_pred_log_otimizado))"
      ]
    },
    {
      "cell_type": "markdown",
      "metadata": {},
      "source": [
        "## 4.2 Otimização com Grid Search e validação cruzada"
      ]
    },
    {
      "cell_type": "code",
      "execution_count": 72,
      "metadata": {},
      "outputs": [
        {
          "name": "stderr",
          "output_type": "stream",
          "text": [
            "c:\\Users\\manus\\AppData\\Local\\Programs\\Python\\Python311\\Lib\\site-packages\\sklearn\\linear_model\\_sag.py:350: ConvergenceWarning: The max_iter was reached which means the coef_ did not converge\n",
            "  warnings.warn(\n",
            "c:\\Users\\manus\\AppData\\Local\\Programs\\Python\\Python311\\Lib\\site-packages\\sklearn\\linear_model\\_sag.py:350: ConvergenceWarning: The max_iter was reached which means the coef_ did not converge\n",
            "  warnings.warn(\n",
            "c:\\Users\\manus\\AppData\\Local\\Programs\\Python\\Python311\\Lib\\site-packages\\sklearn\\linear_model\\_sag.py:350: ConvergenceWarning: The max_iter was reached which means the coef_ did not converge\n",
            "  warnings.warn(\n",
            "c:\\Users\\manus\\AppData\\Local\\Programs\\Python\\Python311\\Lib\\site-packages\\sklearn\\linear_model\\_sag.py:350: ConvergenceWarning: The max_iter was reached which means the coef_ did not converge\n",
            "  warnings.warn(\n",
            "c:\\Users\\manus\\AppData\\Local\\Programs\\Python\\Python311\\Lib\\site-packages\\sklearn\\linear_model\\_sag.py:350: ConvergenceWarning: The max_iter was reached which means the coef_ did not converge\n",
            "  warnings.warn(\n",
            "c:\\Users\\manus\\AppData\\Local\\Programs\\Python\\Python311\\Lib\\site-packages\\sklearn\\linear_model\\_sag.py:350: ConvergenceWarning: The max_iter was reached which means the coef_ did not converge\n",
            "  warnings.warn(\n",
            "c:\\Users\\manus\\AppData\\Local\\Programs\\Python\\Python311\\Lib\\site-packages\\sklearn\\linear_model\\_sag.py:350: ConvergenceWarning: The max_iter was reached which means the coef_ did not converge\n",
            "  warnings.warn(\n",
            "c:\\Users\\manus\\AppData\\Local\\Programs\\Python\\Python311\\Lib\\site-packages\\sklearn\\linear_model\\_sag.py:350: ConvergenceWarning: The max_iter was reached which means the coef_ did not converge\n",
            "  warnings.warn(\n",
            "c:\\Users\\manus\\AppData\\Local\\Programs\\Python\\Python311\\Lib\\site-packages\\sklearn\\linear_model\\_sag.py:350: ConvergenceWarning: The max_iter was reached which means the coef_ did not converge\n",
            "  warnings.warn(\n",
            "c:\\Users\\manus\\AppData\\Local\\Programs\\Python\\Python311\\Lib\\site-packages\\sklearn\\linear_model\\_sag.py:350: ConvergenceWarning: The max_iter was reached which means the coef_ did not converge\n",
            "  warnings.warn(\n",
            "c:\\Users\\manus\\AppData\\Local\\Programs\\Python\\Python311\\Lib\\site-packages\\sklearn\\linear_model\\_sag.py:350: ConvergenceWarning: The max_iter was reached which means the coef_ did not converge\n",
            "  warnings.warn(\n",
            "c:\\Users\\manus\\AppData\\Local\\Programs\\Python\\Python311\\Lib\\site-packages\\sklearn\\linear_model\\_sag.py:350: ConvergenceWarning: The max_iter was reached which means the coef_ did not converge\n",
            "  warnings.warn(\n",
            "c:\\Users\\manus\\AppData\\Local\\Programs\\Python\\Python311\\Lib\\site-packages\\sklearn\\linear_model\\_sag.py:350: ConvergenceWarning: The max_iter was reached which means the coef_ did not converge\n",
            "  warnings.warn(\n",
            "c:\\Users\\manus\\AppData\\Local\\Programs\\Python\\Python311\\Lib\\site-packages\\sklearn\\linear_model\\_sag.py:350: ConvergenceWarning: The max_iter was reached which means the coef_ did not converge\n",
            "  warnings.warn(\n",
            "c:\\Users\\manus\\AppData\\Local\\Programs\\Python\\Python311\\Lib\\site-packages\\sklearn\\linear_model\\_sag.py:350: ConvergenceWarning: The max_iter was reached which means the coef_ did not converge\n",
            "  warnings.warn(\n",
            "c:\\Users\\manus\\AppData\\Local\\Programs\\Python\\Python311\\Lib\\site-packages\\sklearn\\linear_model\\_sag.py:350: ConvergenceWarning: The max_iter was reached which means the coef_ did not converge\n",
            "  warnings.warn(\n",
            "c:\\Users\\manus\\AppData\\Local\\Programs\\Python\\Python311\\Lib\\site-packages\\sklearn\\linear_model\\_sag.py:350: ConvergenceWarning: The max_iter was reached which means the coef_ did not converge\n",
            "  warnings.warn(\n",
            "c:\\Users\\manus\\AppData\\Local\\Programs\\Python\\Python311\\Lib\\site-packages\\sklearn\\linear_model\\_sag.py:350: ConvergenceWarning: The max_iter was reached which means the coef_ did not converge\n",
            "  warnings.warn(\n",
            "c:\\Users\\manus\\AppData\\Local\\Programs\\Python\\Python311\\Lib\\site-packages\\sklearn\\linear_model\\_sag.py:350: ConvergenceWarning: The max_iter was reached which means the coef_ did not converge\n",
            "  warnings.warn(\n",
            "c:\\Users\\manus\\AppData\\Local\\Programs\\Python\\Python311\\Lib\\site-packages\\sklearn\\linear_model\\_sag.py:350: ConvergenceWarning: The max_iter was reached which means the coef_ did not converge\n",
            "  warnings.warn(\n",
            "c:\\Users\\manus\\AppData\\Local\\Programs\\Python\\Python311\\Lib\\site-packages\\sklearn\\linear_model\\_sag.py:350: ConvergenceWarning: The max_iter was reached which means the coef_ did not converge\n",
            "  warnings.warn(\n",
            "c:\\Users\\manus\\AppData\\Local\\Programs\\Python\\Python311\\Lib\\site-packages\\sklearn\\linear_model\\_sag.py:350: ConvergenceWarning: The max_iter was reached which means the coef_ did not converge\n",
            "  warnings.warn(\n",
            "c:\\Users\\manus\\AppData\\Local\\Programs\\Python\\Python311\\Lib\\site-packages\\sklearn\\linear_model\\_sag.py:350: ConvergenceWarning: The max_iter was reached which means the coef_ did not converge\n",
            "  warnings.warn(\n",
            "c:\\Users\\manus\\AppData\\Local\\Programs\\Python\\Python311\\Lib\\site-packages\\sklearn\\linear_model\\_sag.py:350: ConvergenceWarning: The max_iter was reached which means the coef_ did not converge\n",
            "  warnings.warn(\n",
            "c:\\Users\\manus\\AppData\\Local\\Programs\\Python\\Python311\\Lib\\site-packages\\sklearn\\linear_model\\_sag.py:350: ConvergenceWarning: The max_iter was reached which means the coef_ did not converge\n",
            "  warnings.warn(\n",
            "c:\\Users\\manus\\AppData\\Local\\Programs\\Python\\Python311\\Lib\\site-packages\\sklearn\\linear_model\\_sag.py:350: ConvergenceWarning: The max_iter was reached which means the coef_ did not converge\n",
            "  warnings.warn(\n",
            "c:\\Users\\manus\\AppData\\Local\\Programs\\Python\\Python311\\Lib\\site-packages\\sklearn\\linear_model\\_sag.py:350: ConvergenceWarning: The max_iter was reached which means the coef_ did not converge\n",
            "  warnings.warn(\n",
            "c:\\Users\\manus\\AppData\\Local\\Programs\\Python\\Python311\\Lib\\site-packages\\sklearn\\linear_model\\_sag.py:350: ConvergenceWarning: The max_iter was reached which means the coef_ did not converge\n",
            "  warnings.warn(\n",
            "c:\\Users\\manus\\AppData\\Local\\Programs\\Python\\Python311\\Lib\\site-packages\\sklearn\\linear_model\\_sag.py:350: ConvergenceWarning: The max_iter was reached which means the coef_ did not converge\n",
            "  warnings.warn(\n",
            "c:\\Users\\manus\\AppData\\Local\\Programs\\Python\\Python311\\Lib\\site-packages\\sklearn\\linear_model\\_sag.py:350: ConvergenceWarning: The max_iter was reached which means the coef_ did not converge\n",
            "  warnings.warn(\n",
            "c:\\Users\\manus\\AppData\\Local\\Programs\\Python\\Python311\\Lib\\site-packages\\sklearn\\linear_model\\_sag.py:350: ConvergenceWarning: The max_iter was reached which means the coef_ did not converge\n",
            "  warnings.warn(\n",
            "c:\\Users\\manus\\AppData\\Local\\Programs\\Python\\Python311\\Lib\\site-packages\\sklearn\\linear_model\\_sag.py:350: ConvergenceWarning: The max_iter was reached which means the coef_ did not converge\n",
            "  warnings.warn(\n",
            "c:\\Users\\manus\\AppData\\Local\\Programs\\Python\\Python311\\Lib\\site-packages\\sklearn\\linear_model\\_sag.py:350: ConvergenceWarning: The max_iter was reached which means the coef_ did not converge\n",
            "  warnings.warn(\n",
            "c:\\Users\\manus\\AppData\\Local\\Programs\\Python\\Python311\\Lib\\site-packages\\sklearn\\linear_model\\_sag.py:350: ConvergenceWarning: The max_iter was reached which means the coef_ did not converge\n",
            "  warnings.warn(\n",
            "c:\\Users\\manus\\AppData\\Local\\Programs\\Python\\Python311\\Lib\\site-packages\\sklearn\\linear_model\\_sag.py:350: ConvergenceWarning: The max_iter was reached which means the coef_ did not converge\n",
            "  warnings.warn(\n",
            "c:\\Users\\manus\\AppData\\Local\\Programs\\Python\\Python311\\Lib\\site-packages\\sklearn\\linear_model\\_sag.py:350: ConvergenceWarning: The max_iter was reached which means the coef_ did not converge\n",
            "  warnings.warn(\n",
            "c:\\Users\\manus\\AppData\\Local\\Programs\\Python\\Python311\\Lib\\site-packages\\sklearn\\linear_model\\_sag.py:350: ConvergenceWarning: The max_iter was reached which means the coef_ did not converge\n",
            "  warnings.warn(\n",
            "c:\\Users\\manus\\AppData\\Local\\Programs\\Python\\Python311\\Lib\\site-packages\\sklearn\\linear_model\\_sag.py:350: ConvergenceWarning: The max_iter was reached which means the coef_ did not converge\n",
            "  warnings.warn(\n",
            "c:\\Users\\manus\\AppData\\Local\\Programs\\Python\\Python311\\Lib\\site-packages\\sklearn\\linear_model\\_sag.py:350: ConvergenceWarning: The max_iter was reached which means the coef_ did not converge\n",
            "  warnings.warn(\n",
            "c:\\Users\\manus\\AppData\\Local\\Programs\\Python\\Python311\\Lib\\site-packages\\sklearn\\linear_model\\_sag.py:350: ConvergenceWarning: The max_iter was reached which means the coef_ did not converge\n",
            "  warnings.warn(\n",
            "c:\\Users\\manus\\AppData\\Local\\Programs\\Python\\Python311\\Lib\\site-packages\\sklearn\\linear_model\\_sag.py:350: ConvergenceWarning: The max_iter was reached which means the coef_ did not converge\n",
            "  warnings.warn(\n",
            "c:\\Users\\manus\\AppData\\Local\\Programs\\Python\\Python311\\Lib\\site-packages\\sklearn\\linear_model\\_sag.py:350: ConvergenceWarning: The max_iter was reached which means the coef_ did not converge\n",
            "  warnings.warn(\n",
            "c:\\Users\\manus\\AppData\\Local\\Programs\\Python\\Python311\\Lib\\site-packages\\sklearn\\linear_model\\_sag.py:350: ConvergenceWarning: The max_iter was reached which means the coef_ did not converge\n",
            "  warnings.warn(\n",
            "c:\\Users\\manus\\AppData\\Local\\Programs\\Python\\Python311\\Lib\\site-packages\\sklearn\\linear_model\\_sag.py:350: ConvergenceWarning: The max_iter was reached which means the coef_ did not converge\n",
            "  warnings.warn(\n",
            "c:\\Users\\manus\\AppData\\Local\\Programs\\Python\\Python311\\Lib\\site-packages\\sklearn\\linear_model\\_sag.py:350: ConvergenceWarning: The max_iter was reached which means the coef_ did not converge\n",
            "  warnings.warn(\n",
            "c:\\Users\\manus\\AppData\\Local\\Programs\\Python\\Python311\\Lib\\site-packages\\sklearn\\linear_model\\_sag.py:350: ConvergenceWarning: The max_iter was reached which means the coef_ did not converge\n",
            "  warnings.warn(\n",
            "c:\\Users\\manus\\AppData\\Local\\Programs\\Python\\Python311\\Lib\\site-packages\\sklearn\\linear_model\\_sag.py:350: ConvergenceWarning: The max_iter was reached which means the coef_ did not converge\n",
            "  warnings.warn(\n",
            "c:\\Users\\manus\\AppData\\Local\\Programs\\Python\\Python311\\Lib\\site-packages\\sklearn\\linear_model\\_sag.py:350: ConvergenceWarning: The max_iter was reached which means the coef_ did not converge\n",
            "  warnings.warn(\n",
            "c:\\Users\\manus\\AppData\\Local\\Programs\\Python\\Python311\\Lib\\site-packages\\sklearn\\linear_model\\_sag.py:350: ConvergenceWarning: The max_iter was reached which means the coef_ did not converge\n",
            "  warnings.warn(\n",
            "c:\\Users\\manus\\AppData\\Local\\Programs\\Python\\Python311\\Lib\\site-packages\\sklearn\\linear_model\\_sag.py:350: ConvergenceWarning: The max_iter was reached which means the coef_ did not converge\n",
            "  warnings.warn(\n"
          ]
        }
      ],
      "source": [
        "from sklearn.model_selection import GridSearchCV\n",
        "# Hiperparâmetros a serem testados\n",
        "param_grid = {\n",
        "    'solver': ['saga', 'liblinear'], # Algoritmo de otimização \n",
        "    'penalty': ['l1', 'l2'], # Tipo de penalização (L1 ou L2)\n",
        "    'C': [0.001, 0.01, 0.1, 1, 10], # Parâmetro de regularização- quanto menor o c, maior é o numero de int\n",
        "    'max_iter': [100, 200, 300, 400, 500, 600] \n",
        "}\n",
        "\n",
        "\n",
        "# Instância do GridSearchCV\n",
        "grid_search = GridSearchCV(modelo_log, param_grid, cv=5)  # cv é o número de dobras para validação cruzada\n",
        "\n",
        "# GridSearchCV com os dados de treinamento\n",
        "grid_search.fit(X_train_std, y_train)\n",
        "\n",
        "# Melhores hiperparâmetros encontrados\n",
        "melhores_parametros = grid_search.best_params_\n",
        "\n",
        "# Melhor modelo treinado com os melhores hiperparâmetros\n",
        "melhor_modelo = grid_search.best_estimator_\n",
        "\n",
        "# Predição com o melhor modelo\n",
        "y_pred_log_grid = melhor_modelo.predict(X_test_std)"
      ]
    },
    {
      "cell_type": "markdown",
      "metadata": {},
      "source": [
        "É possível obter a média do teste score do grid search com validação cruzada:"
      ]
    },
    {
      "cell_type": "code",
      "execution_count": 78,
      "metadata": {},
      "outputs": [
        {
          "name": "stdout",
          "output_type": "stream",
          "text": [
            "média do teste score do grid search com validação cruzada: 79.45 %\n"
          ]
        }
      ],
      "source": [
        "print(f'média do teste score do grid search com validação cruzada: {grid_search.cv_results_[\"mean_test_score\"].mean() * 100:.2f} %')"
      ]
    },
    {
      "cell_type": "code",
      "execution_count": 80,
      "metadata": {},
      "outputs": [
        {
          "name": "stdout",
          "output_type": "stream",
          "text": [
            "              precision    recall  f1-score   support\n",
            "\n",
            "           0       0.85      0.89      0.87      1035\n",
            "           1       0.65      0.55      0.60       374\n",
            "\n",
            "    accuracy                           0.80      1409\n",
            "   macro avg       0.75      0.72      0.73      1409\n",
            "weighted avg       0.80      0.80      0.80      1409\n",
            "\n"
          ]
        }
      ],
      "source": [
        "#Classification Report grid search com validação cruzada\n",
        "print(classification_report(y_test, y_pred_log_grid))"
      ]
    },
    {
      "cell_type": "markdown",
      "metadata": {},
      "source": [
        "Deste modo, vemos que a acuária tando do Random Search e Grid Search foram de 0.8, sendo inferior a acurácia da Regressão Logística, que foi de 0,81. \n",
        "\n",
        "O f1-score de ambas as classes foi de 0.87 para a classe 0 e 0.60 para a classe 1 em ambos os otimizadores, sendo inferior também ao resultado da Regressão logística que foi de 0.87 para a classe 0 e 0.61 para a classe 1. \n",
        "\n",
        "A precisão para a classe 0 foi de 0.85 para todos e a regressão logística se sobressaiu com 0.66, enquanto nos otimizadores o resultado foi de 0.65 para a classe 1."
      ]
    },
    {
      "cell_type": "markdown",
      "metadata": {},
      "source": [
        "Portanto mesmo com a validação cruzada e otimização, o modelo de Regressão Logística puro se sobressai a eles ao observarmos as métricas. Agora vamos elaborar o pipeline final baseado no melhor modelo."
      ]
    },
    {
      "cell_type": "markdown",
      "metadata": {},
      "source": [
        "## 4.3 Pipline Final - Modelo de Regressão Logística "
      ]
    },
    {
      "cell_type": "markdown",
      "metadata": {},
      "source": [
        "No pipeline, colocaremos todos os passos que foram aplicado nos dados. Como o tratamento de vazios foi feito antes de realizar o split dos dados, o nosso pipeline começará na normalização e então na aplicação do modelo."
      ]
    },
    {
      "cell_type": "code",
      "execution_count": 81,
      "metadata": {},
      "outputs": [],
      "source": [
        "from sklearn.pipeline import Pipeline\n",
        "from sklearn.linear_model import LogisticRegression\n",
        "from sklearn.preprocessing import StandardScaler\n",
        "from sklearn.impute import SimpleImputer\n",
        "\n",
        "\n",
        "pipeline = Pipeline(\n",
        "    [\n",
        "        ('scaler', StandardScaler()),\n",
        "        ('model',LogisticRegression(solver='lbfgs', max_iter=100))\n",
        "    ]\n",
        ")\n",
        "# Treinando os dados pelo pipeline\n",
        "pipeline.fit(X_train, y_train)\n",
        "\n",
        "# Predição com o pipeline\n",
        "y_pred = pipeline.predict(X_test)"
      ]
    },
    {
      "cell_type": "code",
      "execution_count": 82,
      "metadata": {},
      "outputs": [
        {
          "name": "stdout",
          "output_type": "stream",
          "text": [
            "              precision    recall  f1-score   support\n",
            "\n",
            "           0       0.85      0.89      0.87      1035\n",
            "           1       0.66      0.57      0.61       374\n",
            "\n",
            "    accuracy                           0.81      1409\n",
            "   macro avg       0.76      0.73      0.74      1409\n",
            "weighted avg       0.80      0.81      0.80      1409\n",
            "\n"
          ]
        }
      ],
      "source": [
        "#Regressão Logística\n",
        "print(classification_report(y_test, y_pred))"
      ]
    },
    {
      "cell_type": "code",
      "execution_count": 83,
      "metadata": {},
      "outputs": [
        {
          "name": "stdout",
          "output_type": "stream",
          "text": [
            "ROC-AUC Score Regressão Logística Pipeline: 0.8417680642744582\n"
          ]
        }
      ],
      "source": [
        "y_prob_log_pipe = pipeline.predict_proba(X_test)\n",
        "\n",
        "print(\"ROC-AUC Score Regressão Logística Pipeline:\", roc_auc_score(y_test, y_prob_log_pipe[:, 1]))"
      ]
    },
    {
      "cell_type": "markdown",
      "metadata": {},
      "source": [
        "Deste modo temos um pipeline com as mesmas métricas que antes do pipeline e de uma forma mais elegante."
      ]
    },
    {
      "cell_type": "markdown",
      "metadata": {},
      "source": [
        "# 5. Conclusão\n",
        "\n",
        "Através da aplicação dos modelos de Regressão Logística, XGBoost, KNN e dos otimizadores Random Search e Grid Search, temos que o modelo de Regressão Logística é o melhor modelo para classificação de Churn,  com acurácia de 81%, precisão de 85% para a classe 0 e 66% para a classe 1, além do f1-score de 87% para a classe 0 e 61% para a classe 1. A comparação entre os modelos e otimização nos mostoru que muitas vezes a solução mais simples pode ser a mais apropriada.\n",
        "\n",
        "Um ponto de observação é que os resultados obtidos com o Random Search e com o Grid Search nos indicam que o modelo de Regressão Logística tem como melhores parâmetros os parâmetros default (solver: 'lbfgs', penalty: 'l2', C: 1, max_iter: 100).\n",
        "\n",
        "\n",
        "A previsão de clientes que irão realizar o Churn é um tema muito importante a ser analisado pelas empresas, pois desta forma é possível que elas aumentem a sua receita de forma que seja realizado campanhas para retenção destes clientes. Isto é um problema que toma maior proporção em empresas que dependem da assinaturas de clientes, como no dataset exemplo com uma empresa de serviços de telecomunicações.\n",
        "\n",
        "Como próximos passos, podemos testar o Optuna para otimização do modelo de regressão logística e também o balanceamento de dados, a fim de se obter uma acurácia mais próxima de 90%."
      ]
    }
  ],
  "metadata": {
    "colab": {
      "provenance": []
    },
    "kernelspec": {
      "display_name": "Python 3",
      "name": "python3"
    },
    "language_info": {
      "codemirror_mode": {
        "name": "ipython",
        "version": 3
      },
      "file_extension": ".py",
      "mimetype": "text/x-python",
      "name": "python",
      "nbconvert_exporter": "python",
      "pygments_lexer": "ipython3",
      "version": "3.11.1"
    }
  },
  "nbformat": 4,
  "nbformat_minor": 0
}
